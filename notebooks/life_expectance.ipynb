{
 "cells": [
  {
   "cell_type": "markdown",
   "id": "discrete-adjustment",
   "metadata": {},
   "source": [
    "# LIBRERIAS NECESARIAS. CONFIGURACION."
   ]
  },
  {
   "cell_type": "code",
   "execution_count": 1,
   "id": "hired-fighter",
   "metadata": {},
   "outputs": [],
   "source": [
    "# Tratamiento de datos\n",
    "# ==============================================================================\n",
    "import numpy as np\n",
    "import pandas as pd\n",
    "\n",
    "\n",
    "# Gráficos\n",
    "# ==============================================================================\n",
    "import matplotlib.pyplot as plt\n",
    "from matplotlib import style\n",
    "import matplotlib.ticker as ticker\n",
    "import seaborn as sns\n",
    "\n",
    "# Preprocesado y modelado\n",
    "# ==============================================================================\n",
    "from sklearn.model_selection import train_test_split, RepeatedKFold, cross_val_score, GridSearchCV\n",
    "from sklearn.metrics import mean_squared_error\n",
    "import joblib\n",
    "\n",
    "# Varios\n",
    "# ==============================================================================\n",
    "import multiprocessing\n",
    "import os\n",
    "import sys\n"
   ]
  },
  {
   "cell_type": "code",
   "execution_count": 2,
   "id": "compact-discovery",
   "metadata": {},
   "outputs": [],
   "source": [
    "# Configuración matplotlib\n",
    "# ==============================================================================\n",
    "plt.rcParams['image.cmap'] = \"bwr\"\n",
    "#plt.rcParams['figure.dpi'] = \"100\"\n",
    "plt.rcParams['savefig.bbox'] = \"tight\"\n",
    "style.use('ggplot') or plt.style.use('ggplot')\n",
    "\n",
    "# Configuración warnings\n",
    "# ==============================================================================\n",
    "import warnings\n",
    "#warnings.filterwarnings('ignore')\n",
    "\n",
    "## Display all the columns of the dataframe\n",
    "pd.pandas.set_option('display.max_columns',None)"
   ]
  },
  {
   "cell_type": "code",
   "execution_count": null,
   "id": "foreign-validation",
   "metadata": {},
   "outputs": [],
   "source": []
  },
  {
   "cell_type": "code",
   "execution_count": null,
   "id": "e9897403-2b09-448e-957e-518c9832a235",
   "metadata": {},
   "outputs": [],
   "source": []
  },
  {
   "cell_type": "code",
   "execution_count": 3,
   "id": "3589093b-13e3-4706-9318-5bd52e126898",
   "metadata": {},
   "outputs": [],
   "source": [
    "DATA_FOLDER = '../data'\n",
    "OUTPUT_FOLDER = '../output'\n",
    "EDA_DATAFILE = 'life_expectance_EDA.csv'\n",
    "MODELS_FOLDER = '../models'\n",
    "UTILS_FOLDER = '../utils'\n",
    "\n",
    "NUM_CORES = multiprocessing.cpu_count() - 1\n",
    "\n",
    "sys.path.append(os.path.abspath(UTILS_FOLDER))\n"
   ]
  },
  {
   "cell_type": "code",
   "execution_count": null,
   "id": "46964b97-3060-4f02-bcfa-e1d5bcdd71dc",
   "metadata": {},
   "outputs": [],
   "source": []
  },
  {
   "cell_type": "code",
   "execution_count": 4,
   "id": "conditional-pulse",
   "metadata": {},
   "outputs": [],
   "source": [
    "%load_ext autoreload\n",
    "%autoreload 2"
   ]
  },
  {
   "cell_type": "code",
   "execution_count": null,
   "id": "854e2b11-acc6-4ffc-a7cc-f7886d828817",
   "metadata": {},
   "outputs": [],
   "source": []
  },
  {
   "cell_type": "code",
   "execution_count": null,
   "id": "93996ea3-49c5-4ac7-be64-c6261abccca9",
   "metadata": {},
   "outputs": [],
   "source": []
  },
  {
   "cell_type": "markdown",
   "id": "enabling-milan",
   "metadata": {},
   "source": [
    "# CARGA DATOS"
   ]
  },
  {
   "cell_type": "code",
   "execution_count": 5,
   "id": "interested-parent",
   "metadata": {},
   "outputs": [
    {
     "name": "stdout",
     "output_type": "stream",
     "text": [
      "<class 'pandas.core.frame.DataFrame'>\n",
      "MultiIndex: 2916 entries, ('Afghanistan', 2015) to ('Zimbabwe', 2000)\n",
      "Data columns (total 15 columns):\n",
      " #   Column                Non-Null Count  Dtype   \n",
      "---  ------                --------------  -----   \n",
      " 0   Status                2916 non-null   category\n",
      " 1   Income_index          2637 non-null   float64 \n",
      " 2   pct_total_exp         2702 non-null   float64 \n",
      " 3   GDP                   2481 non-null   float64 \n",
      " 4   Hepatitis_B           2375 non-null   float64 \n",
      " 5   Polio                 2908 non-null   float64 \n",
      " 6   Diphtheria            2908 non-null   float64 \n",
      " 7   Measles               2392 non-null   float64 \n",
      " 8   HIV_AIDS              2916 non-null   float64 \n",
      " 9   BMI                   2896 non-null   float64 \n",
      " 10  Alcohol               2735 non-null   float64 \n",
      " 11  thinness__1_19_years  2896 non-null   float64 \n",
      " 12  infant_deaths         2903 non-null   float64 \n",
      " 13  Adult_Mortality       2916 non-null   float64 \n",
      " 14  Life_expectancy       2916 non-null   float64 \n",
      "dtypes: category(1), float64(14)\n",
      "memory usage: 337.1 KB\n"
     ]
    }
   ],
   "source": [
    "df_le = pd.read_csv(os.path.join(DATA_FOLDER,EDA_DATAFILE), dtype={'Country': 'category', 'Status': 'category'},\n",
    "                    index_col=['Country', 'Year'])\n",
    "\n",
    "df_le.info()"
   ]
  },
  {
   "cell_type": "code",
   "execution_count": 6,
   "id": "mechanical-thomas",
   "metadata": {},
   "outputs": [
    {
     "data": {
      "text/html": [
       "<div>\n",
       "<style scoped>\n",
       "    .dataframe tbody tr th:only-of-type {\n",
       "        vertical-align: middle;\n",
       "    }\n",
       "\n",
       "    .dataframe tbody tr th {\n",
       "        vertical-align: top;\n",
       "    }\n",
       "\n",
       "    .dataframe thead th {\n",
       "        text-align: right;\n",
       "    }\n",
       "</style>\n",
       "<table border=\"1\" class=\"dataframe\">\n",
       "  <thead>\n",
       "    <tr style=\"text-align: right;\">\n",
       "      <th></th>\n",
       "      <th></th>\n",
       "      <th>Status</th>\n",
       "      <th>Income_index</th>\n",
       "      <th>pct_total_exp</th>\n",
       "      <th>GDP</th>\n",
       "      <th>Hepatitis_B</th>\n",
       "      <th>Polio</th>\n",
       "      <th>Diphtheria</th>\n",
       "      <th>Measles</th>\n",
       "      <th>HIV_AIDS</th>\n",
       "      <th>BMI</th>\n",
       "      <th>Alcohol</th>\n",
       "      <th>thinness__1_19_years</th>\n",
       "      <th>infant_deaths</th>\n",
       "      <th>Adult_Mortality</th>\n",
       "      <th>Life_expectancy</th>\n",
       "    </tr>\n",
       "    <tr>\n",
       "      <th>Country</th>\n",
       "      <th>Year</th>\n",
       "      <th></th>\n",
       "      <th></th>\n",
       "      <th></th>\n",
       "      <th></th>\n",
       "      <th></th>\n",
       "      <th></th>\n",
       "      <th></th>\n",
       "      <th></th>\n",
       "      <th></th>\n",
       "      <th></th>\n",
       "      <th></th>\n",
       "      <th></th>\n",
       "      <th></th>\n",
       "      <th></th>\n",
       "      <th></th>\n",
       "    </tr>\n",
       "  </thead>\n",
       "  <tbody>\n",
       "    <tr>\n",
       "      <th rowspan=\"5\" valign=\"top\">Afghanistan</th>\n",
       "      <th>2000</th>\n",
       "      <td>Developing</td>\n",
       "      <td>0.338</td>\n",
       "      <td>8.20</td>\n",
       "      <td>114.560000</td>\n",
       "      <td>62.0</td>\n",
       "      <td>24.0</td>\n",
       "      <td>24.0</td>\n",
       "      <td>NaN</td>\n",
       "      <td>0.1</td>\n",
       "      <td>12.2</td>\n",
       "      <td>0.01</td>\n",
       "      <td>2.3</td>\n",
       "      <td>88.0</td>\n",
       "      <td>321.0</td>\n",
       "      <td>54.8</td>\n",
       "    </tr>\n",
       "    <tr>\n",
       "      <th>2001</th>\n",
       "      <td>Developing</td>\n",
       "      <td>0.340</td>\n",
       "      <td>7.80</td>\n",
       "      <td>117.496980</td>\n",
       "      <td>63.0</td>\n",
       "      <td>35.0</td>\n",
       "      <td>33.0</td>\n",
       "      <td>NaN</td>\n",
       "      <td>0.1</td>\n",
       "      <td>12.6</td>\n",
       "      <td>0.01</td>\n",
       "      <td>2.1</td>\n",
       "      <td>88.0</td>\n",
       "      <td>316.0</td>\n",
       "      <td>55.3</td>\n",
       "    </tr>\n",
       "    <tr>\n",
       "      <th>2002</th>\n",
       "      <td>Developing</td>\n",
       "      <td>0.341</td>\n",
       "      <td>7.76</td>\n",
       "      <td>187.845950</td>\n",
       "      <td>64.0</td>\n",
       "      <td>36.0</td>\n",
       "      <td>36.0</td>\n",
       "      <td>NaN</td>\n",
       "      <td>0.1</td>\n",
       "      <td>13.0</td>\n",
       "      <td>0.01</td>\n",
       "      <td>19.9</td>\n",
       "      <td>88.0</td>\n",
       "      <td>3.0</td>\n",
       "      <td>56.2</td>\n",
       "    </tr>\n",
       "    <tr>\n",
       "      <th>2003</th>\n",
       "      <td>Developing</td>\n",
       "      <td>0.373</td>\n",
       "      <td>8.82</td>\n",
       "      <td>198.728544</td>\n",
       "      <td>65.0</td>\n",
       "      <td>41.0</td>\n",
       "      <td>41.0</td>\n",
       "      <td>798.0</td>\n",
       "      <td>0.1</td>\n",
       "      <td>13.4</td>\n",
       "      <td>0.01</td>\n",
       "      <td>19.7</td>\n",
       "      <td>87.0</td>\n",
       "      <td>295.0</td>\n",
       "      <td>56.7</td>\n",
       "    </tr>\n",
       "    <tr>\n",
       "      <th>2004</th>\n",
       "      <td>Developing</td>\n",
       "      <td>0.381</td>\n",
       "      <td>8.79</td>\n",
       "      <td>219.141353</td>\n",
       "      <td>67.0</td>\n",
       "      <td>5.0</td>\n",
       "      <td>5.0</td>\n",
       "      <td>466.0</td>\n",
       "      <td>0.1</td>\n",
       "      <td>13.8</td>\n",
       "      <td>0.02</td>\n",
       "      <td>19.5</td>\n",
       "      <td>87.0</td>\n",
       "      <td>293.0</td>\n",
       "      <td>57.0</td>\n",
       "    </tr>\n",
       "    <tr>\n",
       "      <th>...</th>\n",
       "      <th>...</th>\n",
       "      <td>...</td>\n",
       "      <td>...</td>\n",
       "      <td>...</td>\n",
       "      <td>...</td>\n",
       "      <td>...</td>\n",
       "      <td>...</td>\n",
       "      <td>...</td>\n",
       "      <td>...</td>\n",
       "      <td>...</td>\n",
       "      <td>...</td>\n",
       "      <td>...</td>\n",
       "      <td>...</td>\n",
       "      <td>...</td>\n",
       "      <td>...</td>\n",
       "      <td>...</td>\n",
       "    </tr>\n",
       "    <tr>\n",
       "      <th rowspan=\"5\" valign=\"top\">Zimbabwe</th>\n",
       "      <th>2011</th>\n",
       "      <td>Developing</td>\n",
       "      <td>0.452</td>\n",
       "      <td>6.31</td>\n",
       "      <td>839.927936</td>\n",
       "      <td>94.0</td>\n",
       "      <td>93.0</td>\n",
       "      <td>93.0</td>\n",
       "      <td>0.0</td>\n",
       "      <td>13.3</td>\n",
       "      <td>29.9</td>\n",
       "      <td>6.00</td>\n",
       "      <td>6.8</td>\n",
       "      <td>28.0</td>\n",
       "      <td>464.0</td>\n",
       "      <td>54.9</td>\n",
       "    </tr>\n",
       "    <tr>\n",
       "      <th>2012</th>\n",
       "      <td>Developing</td>\n",
       "      <td>0.464</td>\n",
       "      <td>6.69</td>\n",
       "      <td>955.648466</td>\n",
       "      <td>97.0</td>\n",
       "      <td>95.0</td>\n",
       "      <td>95.0</td>\n",
       "      <td>0.0</td>\n",
       "      <td>8.8</td>\n",
       "      <td>3.3</td>\n",
       "      <td>6.09</td>\n",
       "      <td>6.5</td>\n",
       "      <td>26.0</td>\n",
       "      <td>429.0</td>\n",
       "      <td>56.6</td>\n",
       "    </tr>\n",
       "    <tr>\n",
       "      <th>2013</th>\n",
       "      <td>Developing</td>\n",
       "      <td>0.488</td>\n",
       "      <td>6.88</td>\n",
       "      <td>111.227396</td>\n",
       "      <td>95.0</td>\n",
       "      <td>95.0</td>\n",
       "      <td>95.0</td>\n",
       "      <td>0.0</td>\n",
       "      <td>6.8</td>\n",
       "      <td>3.8</td>\n",
       "      <td>6.39</td>\n",
       "      <td>6.2</td>\n",
       "      <td>25.0</td>\n",
       "      <td>399.0</td>\n",
       "      <td>58.0</td>\n",
       "    </tr>\n",
       "    <tr>\n",
       "      <th>2014</th>\n",
       "      <td>Developing</td>\n",
       "      <td>0.498</td>\n",
       "      <td>6.44</td>\n",
       "      <td>127.474620</td>\n",
       "      <td>91.0</td>\n",
       "      <td>92.0</td>\n",
       "      <td>91.0</td>\n",
       "      <td>0.0</td>\n",
       "      <td>6.3</td>\n",
       "      <td>31.3</td>\n",
       "      <td>6.50</td>\n",
       "      <td>5.9</td>\n",
       "      <td>23.0</td>\n",
       "      <td>371.0</td>\n",
       "      <td>59.2</td>\n",
       "    </tr>\n",
       "    <tr>\n",
       "      <th>2015</th>\n",
       "      <td>Developing</td>\n",
       "      <td>0.507</td>\n",
       "      <td>NaN</td>\n",
       "      <td>118.693830</td>\n",
       "      <td>87.0</td>\n",
       "      <td>88.0</td>\n",
       "      <td>87.0</td>\n",
       "      <td>0.0</td>\n",
       "      <td>6.2</td>\n",
       "      <td>31.8</td>\n",
       "      <td>NaN</td>\n",
       "      <td>5.6</td>\n",
       "      <td>22.0</td>\n",
       "      <td>336.0</td>\n",
       "      <td>67.0</td>\n",
       "    </tr>\n",
       "  </tbody>\n",
       "</table>\n",
       "<p>2916 rows × 15 columns</p>\n",
       "</div>"
      ],
      "text/plain": [
       "                      Status  Income_index  pct_total_exp         GDP  \\\n",
       "Country     Year                                                        \n",
       "Afghanistan 2000  Developing         0.338           8.20  114.560000   \n",
       "            2001  Developing         0.340           7.80  117.496980   \n",
       "            2002  Developing         0.341           7.76  187.845950   \n",
       "            2003  Developing         0.373           8.82  198.728544   \n",
       "            2004  Developing         0.381           8.79  219.141353   \n",
       "...                      ...           ...            ...         ...   \n",
       "Zimbabwe    2011  Developing         0.452           6.31  839.927936   \n",
       "            2012  Developing         0.464           6.69  955.648466   \n",
       "            2013  Developing         0.488           6.88  111.227396   \n",
       "            2014  Developing         0.498           6.44  127.474620   \n",
       "            2015  Developing         0.507            NaN  118.693830   \n",
       "\n",
       "                  Hepatitis_B  Polio  Diphtheria  Measles  HIV_AIDS   BMI  \\\n",
       "Country     Year                                                            \n",
       "Afghanistan 2000         62.0   24.0        24.0      NaN       0.1  12.2   \n",
       "            2001         63.0   35.0        33.0      NaN       0.1  12.6   \n",
       "            2002         64.0   36.0        36.0      NaN       0.1  13.0   \n",
       "            2003         65.0   41.0        41.0    798.0       0.1  13.4   \n",
       "            2004         67.0    5.0         5.0    466.0       0.1  13.8   \n",
       "...                       ...    ...         ...      ...       ...   ...   \n",
       "Zimbabwe    2011         94.0   93.0        93.0      0.0      13.3  29.9   \n",
       "            2012         97.0   95.0        95.0      0.0       8.8   3.3   \n",
       "            2013         95.0   95.0        95.0      0.0       6.8   3.8   \n",
       "            2014         91.0   92.0        91.0      0.0       6.3  31.3   \n",
       "            2015         87.0   88.0        87.0      0.0       6.2  31.8   \n",
       "\n",
       "                  Alcohol  thinness__1_19_years  infant_deaths  \\\n",
       "Country     Year                                                 \n",
       "Afghanistan 2000     0.01                   2.3           88.0   \n",
       "            2001     0.01                   2.1           88.0   \n",
       "            2002     0.01                  19.9           88.0   \n",
       "            2003     0.01                  19.7           87.0   \n",
       "            2004     0.02                  19.5           87.0   \n",
       "...                   ...                   ...            ...   \n",
       "Zimbabwe    2011     6.00                   6.8           28.0   \n",
       "            2012     6.09                   6.5           26.0   \n",
       "            2013     6.39                   6.2           25.0   \n",
       "            2014     6.50                   5.9           23.0   \n",
       "            2015      NaN                   5.6           22.0   \n",
       "\n",
       "                  Adult_Mortality  Life_expectancy  \n",
       "Country     Year                                    \n",
       "Afghanistan 2000            321.0             54.8  \n",
       "            2001            316.0             55.3  \n",
       "            2002              3.0             56.2  \n",
       "            2003            295.0             56.7  \n",
       "            2004            293.0             57.0  \n",
       "...                           ...              ...  \n",
       "Zimbabwe    2011            464.0             54.9  \n",
       "            2012            429.0             56.6  \n",
       "            2013            399.0             58.0  \n",
       "            2014            371.0             59.2  \n",
       "            2015            336.0             67.0  \n",
       "\n",
       "[2916 rows x 15 columns]"
      ]
     },
     "execution_count": 6,
     "metadata": {},
     "output_type": "execute_result"
    }
   ],
   "source": [
    "df_le.sort_index(level=['Country', 'Year'], inplace=True)\n",
    "\n",
    "df_le"
   ]
  },
  {
   "cell_type": "code",
   "execution_count": null,
   "id": "based-crash",
   "metadata": {},
   "outputs": [],
   "source": []
  },
  {
   "cell_type": "markdown",
   "id": "useful-violence",
   "metadata": {},
   "source": [
    "## Repasamos columnas con nulos."
   ]
  },
  {
   "cell_type": "code",
   "execution_count": 7,
   "id": "strategic-sector",
   "metadata": {},
   "outputs": [
    {
     "data": {
      "text/plain": [
       "Hepatitis_B             541\n",
       "Measles                 524\n",
       "GDP                     435\n",
       "Income_index            279\n",
       "pct_total_exp           214\n",
       "Alcohol                 181\n",
       "BMI                      20\n",
       "thinness__1_19_years     20\n",
       "infant_deaths            13\n",
       "Polio                     8\n",
       "Diphtheria                8\n",
       "Status                    0\n",
       "HIV_AIDS                  0\n",
       "Adult_Mortality           0\n",
       "Life_expectancy           0\n",
       "dtype: int64"
      ]
     },
     "execution_count": 7,
     "metadata": {},
     "output_type": "execute_result"
    }
   ],
   "source": [
    "df_le.isna().sum().sort_values(ascending=False)"
   ]
  },
  {
   "cell_type": "code",
   "execution_count": null,
   "id": "4a9087a6-f944-4d53-a17e-b0d0f6741b3c",
   "metadata": {},
   "outputs": [],
   "source": []
  },
  {
   "cell_type": "markdown",
   "id": "36249242-9eff-48d8-a82a-95851d686f1a",
   "metadata": {},
   "source": [
    "**'Dividimos' columnas por tipo para mejor tratamiento posterior:**"
   ]
  },
  {
   "cell_type": "code",
   "execution_count": 8,
   "id": "mediterranean-program",
   "metadata": {},
   "outputs": [],
   "source": [
    "TARGET = 'Life_expectancy'\n",
    "\n",
    "# aparte de 'make_column_selector', necesario para renombrar columnas salida preprx\n",
    "categ_col = df_le.select_dtypes(include='category').columns.to_list()\n",
    "num_col = df_le.select_dtypes(exclude='category').drop(columns=TARGET).columns.to_list()\n",
    "\n",
    "\n",
    "col_NA = [column for column in df_le.columns if df_le[column].isna().sum()>0]\n",
    "\n",
    "# todas las numéricas lo necesitan\n",
    "col_Pwr_Transf = num_col.copy()\n"
   ]
  },
  {
   "cell_type": "code",
   "execution_count": null,
   "id": "ultimate-senegal",
   "metadata": {},
   "outputs": [],
   "source": []
  },
  {
   "cell_type": "markdown",
   "id": "funky-switzerland",
   "metadata": {},
   "source": [
    "# DIVISION TRAIN TEST. DEFINICIÓN Y APLICACIÓN PREPROCESADO"
   ]
  },
  {
   "cell_type": "code",
   "execution_count": 9,
   "id": "disturbed-essence",
   "metadata": {},
   "outputs": [],
   "source": [
    "X_train, X_test, y_train, y_test = train_test_split(df_le.drop(columns=TARGET), df_le[TARGET],test_size=0.2,\n",
    "                                                    random_state=12, stratify=df_le.Status)"
   ]
  },
  {
   "cell_type": "code",
   "execution_count": 10,
   "id": "unavailable-browse",
   "metadata": {},
   "outputs": [
    {
     "name": "stdout",
     "output_type": "stream",
     "text": [
      "TRAIN:  (2332, 14) (2332,)\n",
      "TEST:  (584, 14) (584,)\n"
     ]
    }
   ],
   "source": [
    "print('TRAIN: ', X_train.shape, y_train.shape)\n",
    "\n",
    "print('TEST: ', X_test.shape, y_test.shape)"
   ]
  },
  {
   "cell_type": "code",
   "execution_count": null,
   "id": "bright-austria",
   "metadata": {},
   "outputs": [],
   "source": []
  },
  {
   "cell_type": "markdown",
   "id": "0567daa4-d90a-4cf7-a5b4-7921be58b97c",
   "metadata": {},
   "source": [
    "## PREPROCESADO (acciones propuestas y no realizadas notebook EDA)"
   ]
  },
  {
   "cell_type": "code",
   "execution_count": 11,
   "id": "accepting-sister",
   "metadata": {},
   "outputs": [],
   "source": [
    "from sklearn.pipeline import Pipeline\n",
    "from sklearn.compose import ColumnTransformer, make_column_selector\n",
    "\n",
    "from sklearn.experimental import enable_iterative_imputer\n",
    "from sklearn.impute import IterativeImputer\n",
    "from sklearn.ensemble import RandomForestRegressor, ExtraTreesRegressor\n",
    "\n",
    "from sklearn.preprocessing import PowerTransformer, OneHotEncoder\n"
   ]
  },
  {
   "cell_type": "code",
   "execution_count": 12,
   "id": "southwest-increase",
   "metadata": {},
   "outputs": [],
   "source": [
    "num_transformer = Pipeline(steps=\n",
    "                           [('imputer',\n",
    "                             IterativeImputer(random_state=22)),\n",
    "                            ('pow_transf',\n",
    "                             PowerTransformer(method='yeo-johnson',standardize=True))])\n",
    "\n",
    "categ_transformer = OneHotEncoder(drop='if_binary', dtype=np.int8)\n",
    "\n",
    "preprx = ColumnTransformer(transformers=[('numeric',num_transformer,num_col),\n",
    "                                        ('category',categ_transformer,categ_col)],\n",
    "                          remainder='passthrough',\n",
    "                          n_jobs=NUM_CORES)\n",
    "\n",
    "\n",
    "# estimator=ExtraTreesRegressor(max_depth=5,random_state=22,n_jobs=multiprocessing.cpu_count()-1)"
   ]
  },
  {
   "cell_type": "code",
   "execution_count": 13,
   "id": "viral-damages",
   "metadata": {},
   "outputs": [
    {
     "data": {
      "text/html": [
       "<style>#sk-52eb1faa-a44a-48d8-ab70-ece7f521e30f {color: black;background-color: white;}#sk-52eb1faa-a44a-48d8-ab70-ece7f521e30f pre{padding: 0;}#sk-52eb1faa-a44a-48d8-ab70-ece7f521e30f div.sk-toggleable {background-color: white;}#sk-52eb1faa-a44a-48d8-ab70-ece7f521e30f label.sk-toggleable__label {cursor: pointer;display: block;width: 100%;margin-bottom: 0;padding: 0.3em;box-sizing: border-box;text-align: center;}#sk-52eb1faa-a44a-48d8-ab70-ece7f521e30f div.sk-toggleable__content {max-height: 0;max-width: 0;overflow: hidden;text-align: left;background-color: #f0f8ff;}#sk-52eb1faa-a44a-48d8-ab70-ece7f521e30f div.sk-toggleable__content pre {margin: 0.2em;color: black;border-radius: 0.25em;background-color: #f0f8ff;}#sk-52eb1faa-a44a-48d8-ab70-ece7f521e30f input.sk-toggleable__control:checked~div.sk-toggleable__content {max-height: 200px;max-width: 100%;overflow: auto;}#sk-52eb1faa-a44a-48d8-ab70-ece7f521e30f div.sk-estimator input.sk-toggleable__control:checked~label.sk-toggleable__label {background-color: #d4ebff;}#sk-52eb1faa-a44a-48d8-ab70-ece7f521e30f div.sk-label input.sk-toggleable__control:checked~label.sk-toggleable__label {background-color: #d4ebff;}#sk-52eb1faa-a44a-48d8-ab70-ece7f521e30f input.sk-hidden--visually {border: 0;clip: rect(1px 1px 1px 1px);clip: rect(1px, 1px, 1px, 1px);height: 1px;margin: -1px;overflow: hidden;padding: 0;position: absolute;width: 1px;}#sk-52eb1faa-a44a-48d8-ab70-ece7f521e30f div.sk-estimator {font-family: monospace;background-color: #f0f8ff;border: 1px dotted black;border-radius: 0.25em;box-sizing: border-box;margin-bottom: 0.5em;}#sk-52eb1faa-a44a-48d8-ab70-ece7f521e30f div.sk-estimator:hover {background-color: #d4ebff;}#sk-52eb1faa-a44a-48d8-ab70-ece7f521e30f div.sk-parallel-item::after {content: \"\";width: 100%;border-bottom: 1px solid gray;flex-grow: 1;}#sk-52eb1faa-a44a-48d8-ab70-ece7f521e30f div.sk-label:hover label.sk-toggleable__label {background-color: #d4ebff;}#sk-52eb1faa-a44a-48d8-ab70-ece7f521e30f div.sk-serial::before {content: \"\";position: absolute;border-left: 1px solid gray;box-sizing: border-box;top: 2em;bottom: 0;left: 50%;}#sk-52eb1faa-a44a-48d8-ab70-ece7f521e30f div.sk-serial {display: flex;flex-direction: column;align-items: center;background-color: white;padding-right: 0.2em;padding-left: 0.2em;}#sk-52eb1faa-a44a-48d8-ab70-ece7f521e30f div.sk-item {z-index: 1;}#sk-52eb1faa-a44a-48d8-ab70-ece7f521e30f div.sk-parallel {display: flex;align-items: stretch;justify-content: center;background-color: white;}#sk-52eb1faa-a44a-48d8-ab70-ece7f521e30f div.sk-parallel::before {content: \"\";position: absolute;border-left: 1px solid gray;box-sizing: border-box;top: 2em;bottom: 0;left: 50%;}#sk-52eb1faa-a44a-48d8-ab70-ece7f521e30f div.sk-parallel-item {display: flex;flex-direction: column;position: relative;background-color: white;}#sk-52eb1faa-a44a-48d8-ab70-ece7f521e30f div.sk-parallel-item:first-child::after {align-self: flex-end;width: 50%;}#sk-52eb1faa-a44a-48d8-ab70-ece7f521e30f div.sk-parallel-item:last-child::after {align-self: flex-start;width: 50%;}#sk-52eb1faa-a44a-48d8-ab70-ece7f521e30f div.sk-parallel-item:only-child::after {width: 0;}#sk-52eb1faa-a44a-48d8-ab70-ece7f521e30f div.sk-dashed-wrapped {border: 1px dashed gray;margin: 0 0.4em 0.5em 0.4em;box-sizing: border-box;padding-bottom: 0.4em;background-color: white;position: relative;}#sk-52eb1faa-a44a-48d8-ab70-ece7f521e30f div.sk-label label {font-family: monospace;font-weight: bold;background-color: white;display: inline-block;line-height: 1.2em;}#sk-52eb1faa-a44a-48d8-ab70-ece7f521e30f div.sk-label-container {position: relative;z-index: 2;text-align: center;}#sk-52eb1faa-a44a-48d8-ab70-ece7f521e30f div.sk-container {display: inline-block;position: relative;}</style><div id=\"sk-52eb1faa-a44a-48d8-ab70-ece7f521e30f\" class\"sk-top-container\"><div class=\"sk-container\"><div class=\"sk-item sk-dashed-wrapped\"><div class=\"sk-label-container\"><div class=\"sk-label sk-toggleable\"><input class=\"sk-toggleable__control sk-hidden--visually\" id=\"e78d048e-4c25-4da9-81e6-3f8d1b959137\" type=\"checkbox\" ><label class=\"sk-toggleable__label\" for=\"e78d048e-4c25-4da9-81e6-3f8d1b959137\">ColumnTransformer</label><div class=\"sk-toggleable__content\"><pre>ColumnTransformer(n_jobs=11, remainder='passthrough',\n",
       "                  transformers=[('numeric',\n",
       "                                 Pipeline(steps=[('imputer',\n",
       "                                                  IterativeImputer(random_state=22)),\n",
       "                                                 ('pow_transf',\n",
       "                                                  PowerTransformer())]),\n",
       "                                 ['Income_index', 'pct_total_exp', 'GDP',\n",
       "                                  'Hepatitis_B', 'Polio', 'Diphtheria',\n",
       "                                  'Measles', 'HIV_AIDS', 'BMI', 'Alcohol',\n",
       "                                  'thinness__1_19_years', 'infant_deaths',\n",
       "                                  'Adult_Mortality']),\n",
       "                                ('category',\n",
       "                                 OneHotEncoder(drop='if_binary',\n",
       "                                               dtype=<class 'numpy.int8'>),\n",
       "                                 ['Status'])])</pre></div></div></div><div class=\"sk-parallel\"><div class=\"sk-parallel-item\"><div class=\"sk-item\"><div class=\"sk-label-container\"><div class=\"sk-label sk-toggleable\"><input class=\"sk-toggleable__control sk-hidden--visually\" id=\"8158cdfd-1a4e-4c17-8361-c7f5931d913f\" type=\"checkbox\" ><label class=\"sk-toggleable__label\" for=\"8158cdfd-1a4e-4c17-8361-c7f5931d913f\">numeric</label><div class=\"sk-toggleable__content\"><pre>['Income_index', 'pct_total_exp', 'GDP', 'Hepatitis_B', 'Polio', 'Diphtheria', 'Measles', 'HIV_AIDS', 'BMI', 'Alcohol', 'thinness__1_19_years', 'infant_deaths', 'Adult_Mortality']</pre></div></div></div><div class=\"sk-serial\"><div class=\"sk-item\"><div class=\"sk-serial\"><div class=\"sk-item\"><div class=\"sk-estimator sk-toggleable\"><input class=\"sk-toggleable__control sk-hidden--visually\" id=\"b8d56aee-24f1-4b08-a760-5f3dbf81af6b\" type=\"checkbox\" ><label class=\"sk-toggleable__label\" for=\"b8d56aee-24f1-4b08-a760-5f3dbf81af6b\">IterativeImputer</label><div class=\"sk-toggleable__content\"><pre>IterativeImputer(random_state=22)</pre></div></div></div><div class=\"sk-item\"><div class=\"sk-estimator sk-toggleable\"><input class=\"sk-toggleable__control sk-hidden--visually\" id=\"81c01b53-cf62-4ebf-9a49-7d20eec88193\" type=\"checkbox\" ><label class=\"sk-toggleable__label\" for=\"81c01b53-cf62-4ebf-9a49-7d20eec88193\">PowerTransformer</label><div class=\"sk-toggleable__content\"><pre>PowerTransformer()</pre></div></div></div></div></div></div></div></div><div class=\"sk-parallel-item\"><div class=\"sk-item\"><div class=\"sk-label-container\"><div class=\"sk-label sk-toggleable\"><input class=\"sk-toggleable__control sk-hidden--visually\" id=\"c6346f3d-5c41-4138-a635-70fd72cfcfee\" type=\"checkbox\" ><label class=\"sk-toggleable__label\" for=\"c6346f3d-5c41-4138-a635-70fd72cfcfee\">category</label><div class=\"sk-toggleable__content\"><pre>['Status']</pre></div></div></div><div class=\"sk-serial\"><div class=\"sk-item\"><div class=\"sk-estimator sk-toggleable\"><input class=\"sk-toggleable__control sk-hidden--visually\" id=\"b8fa8296-7b4b-4250-8d35-2679e52ed3e9\" type=\"checkbox\" ><label class=\"sk-toggleable__label\" for=\"b8fa8296-7b4b-4250-8d35-2679e52ed3e9\">OneHotEncoder</label><div class=\"sk-toggleable__content\"><pre>OneHotEncoder(drop='if_binary', dtype=<class 'numpy.int8'>)</pre></div></div></div></div></div></div><div class=\"sk-parallel-item\"><div class=\"sk-item\"><div class=\"sk-label-container\"><div class=\"sk-label sk-toggleable\"><input class=\"sk-toggleable__control sk-hidden--visually\" id=\"5964d3b9-9a01-4bdb-8d72-a563d6bfb8cf\" type=\"checkbox\" ><label class=\"sk-toggleable__label\" for=\"5964d3b9-9a01-4bdb-8d72-a563d6bfb8cf\">remainder</label><div class=\"sk-toggleable__content\"><pre></pre></div></div></div><div class=\"sk-serial\"><div class=\"sk-item\"><div class=\"sk-estimator sk-toggleable\"><input class=\"sk-toggleable__control sk-hidden--visually\" id=\"6fca1391-db17-4ee9-a13c-63a18d7187df\" type=\"checkbox\" ><label class=\"sk-toggleable__label\" for=\"6fca1391-db17-4ee9-a13c-63a18d7187df\">passthrough</label><div class=\"sk-toggleable__content\"><pre>passthrough</pre></div></div></div></div></div></div></div></div></div></div>"
      ],
      "text/plain": [
       "ColumnTransformer(n_jobs=11, remainder='passthrough',\n",
       "                  transformers=[('numeric',\n",
       "                                 Pipeline(steps=[('imputer',\n",
       "                                                  IterativeImputer(random_state=22)),\n",
       "                                                 ('pow_transf',\n",
       "                                                  PowerTransformer())]),\n",
       "                                 ['Income_index', 'pct_total_exp', 'GDP',\n",
       "                                  'Hepatitis_B', 'Polio', 'Diphtheria',\n",
       "                                  'Measles', 'HIV_AIDS', 'BMI', 'Alcohol',\n",
       "                                  'thinness__1_19_years', 'infant_deaths',\n",
       "                                  'Adult_Mortality']),\n",
       "                                ('category',\n",
       "                                 OneHotEncoder(drop='if_binary',\n",
       "                                               dtype=<class 'numpy.int8'>),\n",
       "                                 ['Status'])])"
      ]
     },
     "execution_count": 13,
     "metadata": {},
     "output_type": "execute_result"
    }
   ],
   "source": [
    "from sklearn import set_config\n",
    "set_config(display='diagram')\n",
    "\n",
    "preprx"
   ]
  },
  {
   "cell_type": "code",
   "execution_count": 14,
   "id": "imported-particle",
   "metadata": {},
   "outputs": [],
   "source": [
    "set_config(display='text')"
   ]
  },
  {
   "cell_type": "code",
   "execution_count": null,
   "id": "earned-boutique",
   "metadata": {},
   "outputs": [],
   "source": []
  },
  {
   "cell_type": "code",
   "execution_count": 15,
   "id": "continent-watch",
   "metadata": {},
   "outputs": [],
   "source": [
    "X_train_preprx = preprx.fit_transform(X_train)\n",
    "X_test_preprx = preprx.transform(X_test)"
   ]
  },
  {
   "cell_type": "code",
   "execution_count": 16,
   "id": "fabulous-lover",
   "metadata": {},
   "outputs": [
    {
     "name": "stdout",
     "output_type": "stream",
     "text": [
      "(2332, 14)\n"
     ]
    },
    {
     "data": {
      "text/plain": [
       "array([[ 0.54888279,  0.37908489, -0.11406849, ..., -0.597534  ,\n",
       "         0.22142784,  0.        ],\n",
       "       [ 1.5345272 ,  0.84637386, -0.28552018, ..., -1.22385564,\n",
       "        -0.55185231,  0.        ],\n",
       "       [ 0.19784511,  0.11752495,  0.05145037, ..., -0.27521859,\n",
       "         0.8649538 ,  1.        ],\n",
       "       ...,\n",
       "       [ 1.3721944 ,  0.41902828, -0.35662681, ..., -1.22385564,\n",
       "        -0.13539152,  1.        ],\n",
       "       [-1.40212272, -0.06387271, -0.47035482, ...,  0.08998998,\n",
       "         1.01566785,  1.        ],\n",
       "       [-0.62880215,  0.41861003, -0.34737028, ...,  0.77650352,\n",
       "        -1.49346161,  1.        ]])"
      ]
     },
     "execution_count": 16,
     "metadata": {},
     "output_type": "execute_result"
    }
   ],
   "source": [
    "print(X_train_preprx.shape)\n",
    "X_train_preprx"
   ]
  },
  {
   "cell_type": "code",
   "execution_count": 17,
   "id": "fefa264f",
   "metadata": {},
   "outputs": [
    {
     "name": "stdout",
     "output_type": "stream",
     "text": [
      "(584, 14)\n"
     ]
    },
    {
     "data": {
      "text/plain": [
       "array([[ 4.80033067e-01,  1.05098059e+00, -5.04633104e-01, ...,\n",
       "        -1.22385564e+00, -6.39133602e-04,  1.00000000e+00],\n",
       "       [-1.17000521e+00,  8.24106493e-01, -5.36135084e-01, ...,\n",
       "        -1.22385564e+00, -1.42113909e+00,  1.00000000e+00],\n",
       "       [ 4.32220243e-01,  1.17605059e+00, -2.85977905e-01, ...,\n",
       "         8.99899832e-02, -1.16877041e-01,  1.00000000e+00],\n",
       "       ...,\n",
       "       [-1.02810242e+00, -1.04395849e+00, -3.05121592e-01, ...,\n",
       "         2.00547384e+00,  1.49213606e+00,  1.00000000e+00],\n",
       "       [-1.42662887e+00, -5.59980016e-01, -4.97774656e-01, ...,\n",
       "         1.07725744e+00, -7.00016176e-01,  1.00000000e+00],\n",
       "       [ 6.73986877e-02,  2.66841476e-01, -1.46712062e-01, ...,\n",
       "        -2.75218592e-01,  3.50300964e-01,  1.00000000e+00]])"
      ]
     },
     "execution_count": 17,
     "metadata": {},
     "output_type": "execute_result"
    }
   ],
   "source": [
    "print(X_test_preprx.shape)\n",
    "X_test_preprx"
   ]
  },
  {
   "cell_type": "code",
   "execution_count": null,
   "id": "b4c3b045",
   "metadata": {},
   "outputs": [],
   "source": []
  },
  {
   "cell_type": "code",
   "execution_count": null,
   "id": "39b72559",
   "metadata": {},
   "outputs": [],
   "source": []
  },
  {
   "cell_type": "markdown",
   "id": "a69e8f40",
   "metadata": {},
   "source": [
    "### Acceso a los componentes del preprx"
   ]
  },
  {
   "cell_type": "code",
   "execution_count": 18,
   "id": "egyptian-bobby",
   "metadata": {},
   "outputs": [
    {
     "data": {
      "text/plain": [
       "{'imputer': IterativeImputer(random_state=22),\n",
       " 'pow_transf': PowerTransformer()}"
      ]
     },
     "execution_count": 18,
     "metadata": {},
     "output_type": "execute_result"
    }
   ],
   "source": [
    "num_transformer.named_steps"
   ]
  },
  {
   "cell_type": "code",
   "execution_count": 19,
   "id": "focal-trader",
   "metadata": {},
   "outputs": [
    {
     "data": {
      "text/plain": [
       "{'add_indicator': False,\n",
       " 'estimator': None,\n",
       " 'imputation_order': 'ascending',\n",
       " 'initial_strategy': 'mean',\n",
       " 'max_iter': 10,\n",
       " 'max_value': inf,\n",
       " 'min_value': -inf,\n",
       " 'missing_values': nan,\n",
       " 'n_nearest_features': None,\n",
       " 'random_state': 22,\n",
       " 'sample_posterior': False,\n",
       " 'skip_complete': False,\n",
       " 'tol': 0.001,\n",
       " 'verbose': 0}"
      ]
     },
     "execution_count": 19,
     "metadata": {},
     "output_type": "execute_result"
    }
   ],
   "source": [
    "num_transformer.named_steps.imputer.get_params()"
   ]
  },
  {
   "cell_type": "code",
   "execution_count": 20,
   "id": "b9287b17",
   "metadata": {},
   "outputs": [
    {
     "data": {
      "text/plain": [
       "'mean'"
      ]
     },
     "execution_count": 20,
     "metadata": {},
     "output_type": "execute_result"
    }
   ],
   "source": [
    "num_transformer.named_steps.imputer.get_params()['initial_strategy']\n"
   ]
  },
  {
   "cell_type": "code",
   "execution_count": null,
   "id": "7ab60891",
   "metadata": {},
   "outputs": [],
   "source": []
  },
  {
   "cell_type": "code",
   "execution_count": 21,
   "id": "3b05613a",
   "metadata": {},
   "outputs": [
    {
     "data": {
      "text/plain": [
       "{'numeric': Pipeline(steps=[('imputer', IterativeImputer(random_state=22)),\n",
       "                 ('pow_transf', PowerTransformer())]),\n",
       " 'category': OneHotEncoder(drop='if_binary', dtype=<class 'numpy.int8'>)}"
      ]
     },
     "execution_count": 21,
     "metadata": {},
     "output_type": "execute_result"
    }
   ],
   "source": [
    "preprx.named_transformers_"
   ]
  },
  {
   "cell_type": "code",
   "execution_count": null,
   "id": "5d3ed054",
   "metadata": {},
   "outputs": [],
   "source": []
  },
  {
   "cell_type": "code",
   "execution_count": 22,
   "id": "c5848e37",
   "metadata": {},
   "outputs": [
    {
     "data": {
      "text/plain": [
       "array(['Status_Developing'], dtype=object)"
      ]
     },
     "execution_count": 22,
     "metadata": {},
     "output_type": "execute_result"
    }
   ],
   "source": [
    "preprx.named_transformers_.category.get_feature_names_out()"
   ]
  },
  {
   "cell_type": "code",
   "execution_count": 23,
   "id": "fb3579bd",
   "metadata": {},
   "outputs": [
    {
     "data": {
      "text/plain": [
       "{'categories': 'auto',\n",
       " 'drop': 'if_binary',\n",
       " 'dtype': numpy.int8,\n",
       " 'handle_unknown': 'error',\n",
       " 'sparse': True}"
      ]
     },
     "execution_count": 23,
     "metadata": {},
     "output_type": "execute_result"
    }
   ],
   "source": [
    "preprx.named_transformers_.category.get_params()"
   ]
  },
  {
   "cell_type": "code",
   "execution_count": null,
   "id": "8884f03e",
   "metadata": {},
   "outputs": [],
   "source": []
  },
  {
   "cell_type": "markdown",
   "id": "2ec9a936",
   "metadata": {},
   "source": [
    "**Volvemos al preprocesado**"
   ]
  },
  {
   "cell_type": "markdown",
   "id": "39a764ae",
   "metadata": {},
   "source": [
    "## DATAFRAMES con el resultado del preprocesado."
   ]
  },
  {
   "cell_type": "code",
   "execution_count": 24,
   "id": "97cf02c4",
   "metadata": {},
   "outputs": [
    {
     "data": {
      "text/html": [
       "<style>#sk-d8442725-7ee5-4181-99ba-e86f5c679b17 {color: black;background-color: white;}#sk-d8442725-7ee5-4181-99ba-e86f5c679b17 pre{padding: 0;}#sk-d8442725-7ee5-4181-99ba-e86f5c679b17 div.sk-toggleable {background-color: white;}#sk-d8442725-7ee5-4181-99ba-e86f5c679b17 label.sk-toggleable__label {cursor: pointer;display: block;width: 100%;margin-bottom: 0;padding: 0.3em;box-sizing: border-box;text-align: center;}#sk-d8442725-7ee5-4181-99ba-e86f5c679b17 div.sk-toggleable__content {max-height: 0;max-width: 0;overflow: hidden;text-align: left;background-color: #f0f8ff;}#sk-d8442725-7ee5-4181-99ba-e86f5c679b17 div.sk-toggleable__content pre {margin: 0.2em;color: black;border-radius: 0.25em;background-color: #f0f8ff;}#sk-d8442725-7ee5-4181-99ba-e86f5c679b17 input.sk-toggleable__control:checked~div.sk-toggleable__content {max-height: 200px;max-width: 100%;overflow: auto;}#sk-d8442725-7ee5-4181-99ba-e86f5c679b17 div.sk-estimator input.sk-toggleable__control:checked~label.sk-toggleable__label {background-color: #d4ebff;}#sk-d8442725-7ee5-4181-99ba-e86f5c679b17 div.sk-label input.sk-toggleable__control:checked~label.sk-toggleable__label {background-color: #d4ebff;}#sk-d8442725-7ee5-4181-99ba-e86f5c679b17 input.sk-hidden--visually {border: 0;clip: rect(1px 1px 1px 1px);clip: rect(1px, 1px, 1px, 1px);height: 1px;margin: -1px;overflow: hidden;padding: 0;position: absolute;width: 1px;}#sk-d8442725-7ee5-4181-99ba-e86f5c679b17 div.sk-estimator {font-family: monospace;background-color: #f0f8ff;border: 1px dotted black;border-radius: 0.25em;box-sizing: border-box;margin-bottom: 0.5em;}#sk-d8442725-7ee5-4181-99ba-e86f5c679b17 div.sk-estimator:hover {background-color: #d4ebff;}#sk-d8442725-7ee5-4181-99ba-e86f5c679b17 div.sk-parallel-item::after {content: \"\";width: 100%;border-bottom: 1px solid gray;flex-grow: 1;}#sk-d8442725-7ee5-4181-99ba-e86f5c679b17 div.sk-label:hover label.sk-toggleable__label {background-color: #d4ebff;}#sk-d8442725-7ee5-4181-99ba-e86f5c679b17 div.sk-serial::before {content: \"\";position: absolute;border-left: 1px solid gray;box-sizing: border-box;top: 2em;bottom: 0;left: 50%;}#sk-d8442725-7ee5-4181-99ba-e86f5c679b17 div.sk-serial {display: flex;flex-direction: column;align-items: center;background-color: white;padding-right: 0.2em;padding-left: 0.2em;}#sk-d8442725-7ee5-4181-99ba-e86f5c679b17 div.sk-item {z-index: 1;}#sk-d8442725-7ee5-4181-99ba-e86f5c679b17 div.sk-parallel {display: flex;align-items: stretch;justify-content: center;background-color: white;}#sk-d8442725-7ee5-4181-99ba-e86f5c679b17 div.sk-parallel::before {content: \"\";position: absolute;border-left: 1px solid gray;box-sizing: border-box;top: 2em;bottom: 0;left: 50%;}#sk-d8442725-7ee5-4181-99ba-e86f5c679b17 div.sk-parallel-item {display: flex;flex-direction: column;position: relative;background-color: white;}#sk-d8442725-7ee5-4181-99ba-e86f5c679b17 div.sk-parallel-item:first-child::after {align-self: flex-end;width: 50%;}#sk-d8442725-7ee5-4181-99ba-e86f5c679b17 div.sk-parallel-item:last-child::after {align-self: flex-start;width: 50%;}#sk-d8442725-7ee5-4181-99ba-e86f5c679b17 div.sk-parallel-item:only-child::after {width: 0;}#sk-d8442725-7ee5-4181-99ba-e86f5c679b17 div.sk-dashed-wrapped {border: 1px dashed gray;margin: 0 0.4em 0.5em 0.4em;box-sizing: border-box;padding-bottom: 0.4em;background-color: white;position: relative;}#sk-d8442725-7ee5-4181-99ba-e86f5c679b17 div.sk-label label {font-family: monospace;font-weight: bold;background-color: white;display: inline-block;line-height: 1.2em;}#sk-d8442725-7ee5-4181-99ba-e86f5c679b17 div.sk-label-container {position: relative;z-index: 2;text-align: center;}#sk-d8442725-7ee5-4181-99ba-e86f5c679b17 div.sk-container {display: inline-block;position: relative;}</style><div id=\"sk-d8442725-7ee5-4181-99ba-e86f5c679b17\" class\"sk-top-container\"><div class=\"sk-container\"><div class=\"sk-item sk-dashed-wrapped\"><div class=\"sk-label-container\"><div class=\"sk-label sk-toggleable\"><input class=\"sk-toggleable__control sk-hidden--visually\" id=\"45257fca-9f36-45e6-936f-45ab116b5f80\" type=\"checkbox\" ><label class=\"sk-toggleable__label\" for=\"45257fca-9f36-45e6-936f-45ab116b5f80\">ColumnTransformer</label><div class=\"sk-toggleable__content\"><pre>ColumnTransformer(n_jobs=11, remainder='passthrough',\n",
       "                  transformers=[('numeric',\n",
       "                                 Pipeline(steps=[('imputer',\n",
       "                                                  IterativeImputer(random_state=22)),\n",
       "                                                 ('pow_transf',\n",
       "                                                  PowerTransformer())]),\n",
       "                                 ['Income_index', 'pct_total_exp', 'GDP',\n",
       "                                  'Hepatitis_B', 'Polio', 'Diphtheria',\n",
       "                                  'Measles', 'HIV_AIDS', 'BMI', 'Alcohol',\n",
       "                                  'thinness__1_19_years', 'infant_deaths',\n",
       "                                  'Adult_Mortality']),\n",
       "                                ('category',\n",
       "                                 OneHotEncoder(drop='if_binary',\n",
       "                                               dtype=<class 'numpy.int8'>),\n",
       "                                 ['Status'])])</pre></div></div></div><div class=\"sk-parallel\"><div class=\"sk-parallel-item\"><div class=\"sk-item\"><div class=\"sk-label-container\"><div class=\"sk-label sk-toggleable\"><input class=\"sk-toggleable__control sk-hidden--visually\" id=\"2c4910b1-0f80-42bb-9f9a-2964b6198b2a\" type=\"checkbox\" ><label class=\"sk-toggleable__label\" for=\"2c4910b1-0f80-42bb-9f9a-2964b6198b2a\">numeric</label><div class=\"sk-toggleable__content\"><pre>['Income_index', 'pct_total_exp', 'GDP', 'Hepatitis_B', 'Polio', 'Diphtheria', 'Measles', 'HIV_AIDS', 'BMI', 'Alcohol', 'thinness__1_19_years', 'infant_deaths', 'Adult_Mortality']</pre></div></div></div><div class=\"sk-serial\"><div class=\"sk-item\"><div class=\"sk-serial\"><div class=\"sk-item\"><div class=\"sk-estimator sk-toggleable\"><input class=\"sk-toggleable__control sk-hidden--visually\" id=\"67c7be4c-4aed-4864-bba1-a1ef142836b3\" type=\"checkbox\" ><label class=\"sk-toggleable__label\" for=\"67c7be4c-4aed-4864-bba1-a1ef142836b3\">IterativeImputer</label><div class=\"sk-toggleable__content\"><pre>IterativeImputer(random_state=22)</pre></div></div></div><div class=\"sk-item\"><div class=\"sk-estimator sk-toggleable\"><input class=\"sk-toggleable__control sk-hidden--visually\" id=\"5f797d19-a0b1-4908-bfcc-6c61d1b2d2f6\" type=\"checkbox\" ><label class=\"sk-toggleable__label\" for=\"5f797d19-a0b1-4908-bfcc-6c61d1b2d2f6\">PowerTransformer</label><div class=\"sk-toggleable__content\"><pre>PowerTransformer()</pre></div></div></div></div></div></div></div></div><div class=\"sk-parallel-item\"><div class=\"sk-item\"><div class=\"sk-label-container\"><div class=\"sk-label sk-toggleable\"><input class=\"sk-toggleable__control sk-hidden--visually\" id=\"dd6286ce-edaa-4952-8f21-8f1de5e2cb89\" type=\"checkbox\" ><label class=\"sk-toggleable__label\" for=\"dd6286ce-edaa-4952-8f21-8f1de5e2cb89\">category</label><div class=\"sk-toggleable__content\"><pre>['Status']</pre></div></div></div><div class=\"sk-serial\"><div class=\"sk-item\"><div class=\"sk-estimator sk-toggleable\"><input class=\"sk-toggleable__control sk-hidden--visually\" id=\"8e65d3f6-42b4-4d4f-840c-7e3bd122fde4\" type=\"checkbox\" ><label class=\"sk-toggleable__label\" for=\"8e65d3f6-42b4-4d4f-840c-7e3bd122fde4\">OneHotEncoder</label><div class=\"sk-toggleable__content\"><pre>OneHotEncoder(drop='if_binary', dtype=<class 'numpy.int8'>)</pre></div></div></div></div></div></div><div class=\"sk-parallel-item\"><div class=\"sk-item\"><div class=\"sk-label-container\"><div class=\"sk-label sk-toggleable\"><input class=\"sk-toggleable__control sk-hidden--visually\" id=\"add0d14c-86df-4c37-b5eb-f83b854a5414\" type=\"checkbox\" ><label class=\"sk-toggleable__label\" for=\"add0d14c-86df-4c37-b5eb-f83b854a5414\">remainder</label><div class=\"sk-toggleable__content\"><pre>[]</pre></div></div></div><div class=\"sk-serial\"><div class=\"sk-item\"><div class=\"sk-estimator sk-toggleable\"><input class=\"sk-toggleable__control sk-hidden--visually\" id=\"ba8446d1-d664-48cb-8e0d-3f499f1c46ec\" type=\"checkbox\" ><label class=\"sk-toggleable__label\" for=\"ba8446d1-d664-48cb-8e0d-3f499f1c46ec\">passthrough</label><div class=\"sk-toggleable__content\"><pre>passthrough</pre></div></div></div></div></div></div></div></div></div></div>"
      ],
      "text/plain": [
       "ColumnTransformer(n_jobs=11, remainder='passthrough',\n",
       "                  transformers=[('numeric',\n",
       "                                 Pipeline(steps=[('imputer',\n",
       "                                                  IterativeImputer(random_state=22)),\n",
       "                                                 ('pow_transf',\n",
       "                                                  PowerTransformer())]),\n",
       "                                 ['Income_index', 'pct_total_exp', 'GDP',\n",
       "                                  'Hepatitis_B', 'Polio', 'Diphtheria',\n",
       "                                  'Measles', 'HIV_AIDS', 'BMI', 'Alcohol',\n",
       "                                  'thinness__1_19_years', 'infant_deaths',\n",
       "                                  'Adult_Mortality']),\n",
       "                                ('category',\n",
       "                                 OneHotEncoder(drop='if_binary',\n",
       "                                               dtype=<class 'numpy.int8'>),\n",
       "                                 ['Status'])])"
      ]
     },
     "execution_count": 24,
     "metadata": {},
     "output_type": "execute_result"
    }
   ],
   "source": [
    "from sklearn import set_config\n",
    "set_config(display='diagram')\n",
    "\n",
    "preprx"
   ]
  },
  {
   "cell_type": "code",
   "execution_count": 25,
   "id": "abccd04f",
   "metadata": {},
   "outputs": [
    {
     "data": {
      "text/plain": [
       "ColumnTransformer(n_jobs=11, remainder='passthrough',\n",
       "                  transformers=[('numeric',\n",
       "                                 Pipeline(steps=[('imputer',\n",
       "                                                  IterativeImputer(random_state=22)),\n",
       "                                                 ('pow_transf',\n",
       "                                                  PowerTransformer())]),\n",
       "                                 ['Income_index', 'pct_total_exp', 'GDP',\n",
       "                                  'Hepatitis_B', 'Polio', 'Diphtheria',\n",
       "                                  'Measles', 'HIV_AIDS', 'BMI', 'Alcohol',\n",
       "                                  'thinness__1_19_years', 'infant_deaths',\n",
       "                                  'Adult_Mortality']),\n",
       "                                ('category',\n",
       "                                 OneHotEncoder(drop='if_binary',\n",
       "                                               dtype=<class 'numpy.int8'>),\n",
       "                                 ['Status'])])"
      ]
     },
     "execution_count": 25,
     "metadata": {},
     "output_type": "execute_result"
    }
   ],
   "source": [
    "set_config(display='text')\n",
    "\n",
    "preprx"
   ]
  },
  {
   "cell_type": "code",
   "execution_count": 26,
   "id": "22ac9875",
   "metadata": {},
   "outputs": [
    {
     "data": {
      "text/plain": [
       "array(['Income_index', 'pct_total_exp', 'GDP', 'Hepatitis_B', 'Polio',\n",
       "       'Diphtheria', 'Measles', 'HIV_AIDS', 'BMI', 'Alcohol',\n",
       "       'thinness__1_19_years', 'infant_deaths', 'Adult_Mortality',\n",
       "       'Status_Developing'], dtype=object)"
      ]
     },
     "execution_count": 26,
     "metadata": {},
     "output_type": "execute_result"
    }
   ],
   "source": [
    "# las transformaciones (preprx) pueden alteran orden columnas (p. ej. OHE)\n",
    "\n",
    "encode_categ_labels = preprx.named_transformers_.category.get_feature_names_out(categ_col)\n",
    "labels_col = np.concatenate([num_col,encode_categ_labels])\n",
    "\n",
    "labels_col"
   ]
  },
  {
   "cell_type": "code",
   "execution_count": 27,
   "id": "dadb55a1",
   "metadata": {},
   "outputs": [
    {
     "name": "stdout",
     "output_type": "stream",
     "text": [
      "<class 'pandas.core.frame.DataFrame'>\n",
      "RangeIndex: 2332 entries, 0 to 2331\n",
      "Data columns (total 14 columns):\n",
      " #   Column                Non-Null Count  Dtype  \n",
      "---  ------                --------------  -----  \n",
      " 0   Income_index          2332 non-null   float64\n",
      " 1   pct_total_exp         2332 non-null   float64\n",
      " 2   GDP                   2332 non-null   float64\n",
      " 3   Hepatitis_B           2332 non-null   float64\n",
      " 4   Polio                 2332 non-null   float64\n",
      " 5   Diphtheria            2332 non-null   float64\n",
      " 6   Measles               2332 non-null   float64\n",
      " 7   HIV_AIDS              2332 non-null   float64\n",
      " 8   BMI                   2332 non-null   float64\n",
      " 9   Alcohol               2332 non-null   float64\n",
      " 10  thinness__1_19_years  2332 non-null   float64\n",
      " 11  infant_deaths         2332 non-null   float64\n",
      " 12  Adult_Mortality       2332 non-null   float64\n",
      " 13  Status_Developing     2332 non-null   float64\n",
      "dtypes: float64(14)\n",
      "memory usage: 255.2 KB\n"
     ]
    }
   ],
   "source": [
    "df_train_preprx = pd.DataFrame(data=X_train_preprx, columns=labels_col)\n",
    "\n",
    "df_train_preprx.info()"
   ]
  },
  {
   "cell_type": "code",
   "execution_count": 28,
   "id": "e7c000f0",
   "metadata": {},
   "outputs": [
    {
     "data": {
      "text/html": [
       "<div>\n",
       "<style scoped>\n",
       "    .dataframe tbody tr th:only-of-type {\n",
       "        vertical-align: middle;\n",
       "    }\n",
       "\n",
       "    .dataframe tbody tr th {\n",
       "        vertical-align: top;\n",
       "    }\n",
       "\n",
       "    .dataframe thead th {\n",
       "        text-align: right;\n",
       "    }\n",
       "</style>\n",
       "<table border=\"1\" class=\"dataframe\">\n",
       "  <thead>\n",
       "    <tr style=\"text-align: right;\">\n",
       "      <th></th>\n",
       "      <th>Income_index</th>\n",
       "      <th>pct_total_exp</th>\n",
       "      <th>GDP</th>\n",
       "      <th>Hepatitis_B</th>\n",
       "      <th>Polio</th>\n",
       "      <th>Diphtheria</th>\n",
       "      <th>Measles</th>\n",
       "      <th>HIV_AIDS</th>\n",
       "      <th>BMI</th>\n",
       "      <th>Alcohol</th>\n",
       "      <th>thinness__1_19_years</th>\n",
       "      <th>infant_deaths</th>\n",
       "      <th>Adult_Mortality</th>\n",
       "      <th>Status_Developing</th>\n",
       "    </tr>\n",
       "  </thead>\n",
       "  <tbody>\n",
       "    <tr>\n",
       "      <th>0</th>\n",
       "      <td>0.548883</td>\n",
       "      <td>0.379085</td>\n",
       "      <td>-0.114068</td>\n",
       "      <td>0.823015</td>\n",
       "      <td>0.695485</td>\n",
       "      <td>0.615609</td>\n",
       "      <td>-0.850505</td>\n",
       "      <td>-0.698061</td>\n",
       "      <td>-1.649232</td>\n",
       "      <td>1.292026</td>\n",
       "      <td>-0.470483</td>\n",
       "      <td>-0.597534</td>\n",
       "      <td>0.221428</td>\n",
       "      <td>0.0</td>\n",
       "    </tr>\n",
       "    <tr>\n",
       "      <th>1</th>\n",
       "      <td>1.534527</td>\n",
       "      <td>0.846374</td>\n",
       "      <td>-0.285520</td>\n",
       "      <td>0.255915</td>\n",
       "      <td>-0.033084</td>\n",
       "      <td>0.125985</td>\n",
       "      <td>0.354007</td>\n",
       "      <td>-0.698061</td>\n",
       "      <td>1.145805</td>\n",
       "      <td>1.113673</td>\n",
       "      <td>-1.852645</td>\n",
       "      <td>-1.223856</td>\n",
       "      <td>-0.551852</td>\n",
       "      <td>0.0</td>\n",
       "    </tr>\n",
       "    <tr>\n",
       "      <th>2</th>\n",
       "      <td>0.197845</td>\n",
       "      <td>0.117525</td>\n",
       "      <td>0.051450</td>\n",
       "      <td>0.748187</td>\n",
       "      <td>0.695485</td>\n",
       "      <td>0.615609</td>\n",
       "      <td>-1.164961</td>\n",
       "      <td>1.598769</td>\n",
       "      <td>0.030592</td>\n",
       "      <td>0.419278</td>\n",
       "      <td>0.707271</td>\n",
       "      <td>-0.275219</td>\n",
       "      <td>0.864954</td>\n",
       "      <td>1.0</td>\n",
       "    </tr>\n",
       "    <tr>\n",
       "      <th>3</th>\n",
       "      <td>1.652300</td>\n",
       "      <td>1.983912</td>\n",
       "      <td>1.955428</td>\n",
       "      <td>-2.127174</td>\n",
       "      <td>0.437924</td>\n",
       "      <td>0.445874</td>\n",
       "      <td>0.457469</td>\n",
       "      <td>-0.698061</td>\n",
       "      <td>1.296715</td>\n",
       "      <td>1.183057</td>\n",
       "      <td>-1.852645</td>\n",
       "      <td>-1.223856</td>\n",
       "      <td>-0.649045</td>\n",
       "      <td>0.0</td>\n",
       "    </tr>\n",
       "    <tr>\n",
       "      <th>4</th>\n",
       "      <td>-0.308962</td>\n",
       "      <td>0.685233</td>\n",
       "      <td>-0.282467</td>\n",
       "      <td>0.601937</td>\n",
       "      <td>0.437924</td>\n",
       "      <td>0.445874</td>\n",
       "      <td>-1.164961</td>\n",
       "      <td>0.921612</td>\n",
       "      <td>-1.735992</td>\n",
       "      <td>0.818740</td>\n",
       "      <td>0.552374</td>\n",
       "      <td>-0.597534</td>\n",
       "      <td>0.627700</td>\n",
       "      <td>1.0</td>\n",
       "    </tr>\n",
       "  </tbody>\n",
       "</table>\n",
       "</div>"
      ],
      "text/plain": [
       "   Income_index  pct_total_exp       GDP  Hepatitis_B     Polio  Diphtheria  \\\n",
       "0      0.548883       0.379085 -0.114068     0.823015  0.695485    0.615609   \n",
       "1      1.534527       0.846374 -0.285520     0.255915 -0.033084    0.125985   \n",
       "2      0.197845       0.117525  0.051450     0.748187  0.695485    0.615609   \n",
       "3      1.652300       1.983912  1.955428    -2.127174  0.437924    0.445874   \n",
       "4     -0.308962       0.685233 -0.282467     0.601937  0.437924    0.445874   \n",
       "\n",
       "    Measles  HIV_AIDS       BMI   Alcohol  thinness__1_19_years  \\\n",
       "0 -0.850505 -0.698061 -1.649232  1.292026             -0.470483   \n",
       "1  0.354007 -0.698061  1.145805  1.113673             -1.852645   \n",
       "2 -1.164961  1.598769  0.030592  0.419278              0.707271   \n",
       "3  0.457469 -0.698061  1.296715  1.183057             -1.852645   \n",
       "4 -1.164961  0.921612 -1.735992  0.818740              0.552374   \n",
       "\n",
       "   infant_deaths  Adult_Mortality  Status_Developing  \n",
       "0      -0.597534         0.221428                0.0  \n",
       "1      -1.223856        -0.551852                0.0  \n",
       "2      -0.275219         0.864954                1.0  \n",
       "3      -1.223856        -0.649045                0.0  \n",
       "4      -0.597534         0.627700                1.0  "
      ]
     },
     "execution_count": 28,
     "metadata": {},
     "output_type": "execute_result"
    }
   ],
   "source": [
    "df_train_preprx.head()"
   ]
  },
  {
   "cell_type": "code",
   "execution_count": 29,
   "id": "8a9ee810-94d6-4f46-b5cc-1aafcb801b8f",
   "metadata": {},
   "outputs": [
    {
     "data": {
      "text/plain": [
       "Index(['Income_index', 'pct_total_exp', 'GDP', 'Hepatitis_B', 'Polio',\n",
       "       'Diphtheria', 'Measles', 'HIV_AIDS', 'BMI', 'Alcohol',\n",
       "       'thinness__1_19_years', 'infant_deaths', 'Adult_Mortality',\n",
       "       'Status_Developing'],\n",
       "      dtype='object')"
      ]
     },
     "execution_count": 29,
     "metadata": {},
     "output_type": "execute_result"
    }
   ],
   "source": [
    "df_train_preprx.columns"
   ]
  },
  {
   "cell_type": "code",
   "execution_count": 30,
   "id": "ce92d331",
   "metadata": {},
   "outputs": [
    {
     "data": {
      "text/html": [
       "<div>\n",
       "<style scoped>\n",
       "    .dataframe tbody tr th:only-of-type {\n",
       "        vertical-align: middle;\n",
       "    }\n",
       "\n",
       "    .dataframe tbody tr th {\n",
       "        vertical-align: top;\n",
       "    }\n",
       "\n",
       "    .dataframe thead th {\n",
       "        text-align: right;\n",
       "    }\n",
       "</style>\n",
       "<table border=\"1\" class=\"dataframe\">\n",
       "  <thead>\n",
       "    <tr style=\"text-align: right;\">\n",
       "      <th></th>\n",
       "      <th>Income_index</th>\n",
       "      <th>pct_total_exp</th>\n",
       "      <th>GDP</th>\n",
       "      <th>Hepatitis_B</th>\n",
       "      <th>Polio</th>\n",
       "      <th>Diphtheria</th>\n",
       "      <th>Measles</th>\n",
       "      <th>HIV_AIDS</th>\n",
       "      <th>BMI</th>\n",
       "      <th>Alcohol</th>\n",
       "      <th>thinness__1_19_years</th>\n",
       "      <th>infant_deaths</th>\n",
       "      <th>Adult_Mortality</th>\n",
       "    </tr>\n",
       "  </thead>\n",
       "  <tbody>\n",
       "    <tr>\n",
       "      <th>count</th>\n",
       "      <td>2.332000e+03</td>\n",
       "      <td>2.332000e+03</td>\n",
       "      <td>2.332000e+03</td>\n",
       "      <td>2.332000e+03</td>\n",
       "      <td>2.332000e+03</td>\n",
       "      <td>2.332000e+03</td>\n",
       "      <td>2.332000e+03</td>\n",
       "      <td>2.332000e+03</td>\n",
       "      <td>2.332000e+03</td>\n",
       "      <td>2.332000e+03</td>\n",
       "      <td>2.332000e+03</td>\n",
       "      <td>2.332000e+03</td>\n",
       "      <td>2.332000e+03</td>\n",
       "    </tr>\n",
       "    <tr>\n",
       "      <th>mean</th>\n",
       "      <td>4.016703e-16</td>\n",
       "      <td>-1.738651e-16</td>\n",
       "      <td>3.206412e-17</td>\n",
       "      <td>1.108586e-16</td>\n",
       "      <td>1.902959e-16</td>\n",
       "      <td>2.509190e-16</td>\n",
       "      <td>-3.513485e-17</td>\n",
       "      <td>3.234024e-16</td>\n",
       "      <td>2.756514e-17</td>\n",
       "      <td>-3.299486e-16</td>\n",
       "      <td>-2.217113e-16</td>\n",
       "      <td>-2.875535e-17</td>\n",
       "      <td>2.647015e-17</td>\n",
       "    </tr>\n",
       "    <tr>\n",
       "      <th>std</th>\n",
       "      <td>1.000214e+00</td>\n",
       "      <td>1.000214e+00</td>\n",
       "      <td>1.000214e+00</td>\n",
       "      <td>1.000214e+00</td>\n",
       "      <td>1.000214e+00</td>\n",
       "      <td>1.000214e+00</td>\n",
       "      <td>1.000214e+00</td>\n",
       "      <td>1.000214e+00</td>\n",
       "      <td>1.000214e+00</td>\n",
       "      <td>1.000214e+00</td>\n",
       "      <td>1.000214e+00</td>\n",
       "      <td>1.000214e+00</td>\n",
       "      <td>1.000214e+00</td>\n",
       "    </tr>\n",
       "    <tr>\n",
       "      <th>min</th>\n",
       "      <td>-2.142229e+00</td>\n",
       "      <td>-3.023656e+00</td>\n",
       "      <td>-5.713862e+00</td>\n",
       "      <td>-2.137439e+00</td>\n",
       "      <td>-2.301934e+00</td>\n",
       "      <td>-2.294181e+00</td>\n",
       "      <td>-1.164961e+00</td>\n",
       "      <td>-6.980614e-01</td>\n",
       "      <td>-1.967790e+00</td>\n",
       "      <td>-3.653693e+00</td>\n",
       "      <td>-2.123135e+00</td>\n",
       "      <td>-1.223856e+00</td>\n",
       "      <td>-2.328975e+00</td>\n",
       "    </tr>\n",
       "    <tr>\n",
       "      <th>25%</th>\n",
       "      <td>-8.943464e-01</td>\n",
       "      <td>-6.122812e-01</td>\n",
       "      <td>-4.864514e-01</td>\n",
       "      <td>-6.205305e-01</td>\n",
       "      <td>-5.896765e-01</td>\n",
       "      <td>-5.651126e-01</td>\n",
       "      <td>-1.164961e+00</td>\n",
       "      <td>-6.980614e-01</td>\n",
       "      <td>-9.202777e-01</td>\n",
       "      <td>-8.776935e-01</td>\n",
       "      <td>-7.779852e-01</td>\n",
       "      <td>-1.223856e+00</td>\n",
       "      <td>-6.241792e-01</td>\n",
       "    </tr>\n",
       "    <tr>\n",
       "      <th>50%</th>\n",
       "      <td>8.680524e-02</td>\n",
       "      <td>2.052925e-02</td>\n",
       "      <td>-3.027472e-01</td>\n",
       "      <td>3.261267e-01</td>\n",
       "      <td>4.379240e-01</td>\n",
       "      <td>4.458735e-01</td>\n",
       "      <td>8.271702e-02</td>\n",
       "      <td>-6.980614e-01</td>\n",
       "      <td>2.778406e-01</td>\n",
       "      <td>9.328772e-02</td>\n",
       "      <td>-4.392446e-02</td>\n",
       "      <td>-6.423567e-02</td>\n",
       "      <td>6.766843e-02</td>\n",
       "    </tr>\n",
       "    <tr>\n",
       "      <th>75%</th>\n",
       "      <td>7.664203e-01</td>\n",
       "      <td>6.319640e-01</td>\n",
       "      <td>1.375712e-01</td>\n",
       "      <td>8.230149e-01</td>\n",
       "      <td>7.847073e-01</td>\n",
       "      <td>7.920317e-01</td>\n",
       "      <td>9.518799e-01</td>\n",
       "      <td>8.031990e-01</td>\n",
       "      <td>8.976870e-01</td>\n",
       "      <td>8.582660e-01</td>\n",
       "      <td>8.447315e-01</td>\n",
       "      <td>9.396221e-01</td>\n",
       "      <td>6.731137e-01</td>\n",
       "    </tr>\n",
       "    <tr>\n",
       "      <th>max</th>\n",
       "      <td>2.023014e+00</td>\n",
       "      <td>3.837533e+00</td>\n",
       "      <td>6.965331e+00</td>\n",
       "      <td>1.054376e+00</td>\n",
       "      <td>9.682936e-01</td>\n",
       "      <td>9.752598e-01</td>\n",
       "      <td>1.939757e+00</td>\n",
       "      <td>1.924178e+00</td>\n",
       "      <td>1.873002e+00</td>\n",
       "      <td>2.141769e+00</td>\n",
       "      <td>2.411944e+00</td>\n",
       "      <td>2.143920e+00</td>\n",
       "      <td>2.849686e+00</td>\n",
       "    </tr>\n",
       "  </tbody>\n",
       "</table>\n",
       "</div>"
      ],
      "text/plain": [
       "       Income_index  pct_total_exp           GDP   Hepatitis_B         Polio  \\\n",
       "count  2.332000e+03   2.332000e+03  2.332000e+03  2.332000e+03  2.332000e+03   \n",
       "mean   4.016703e-16  -1.738651e-16  3.206412e-17  1.108586e-16  1.902959e-16   \n",
       "std    1.000214e+00   1.000214e+00  1.000214e+00  1.000214e+00  1.000214e+00   \n",
       "min   -2.142229e+00  -3.023656e+00 -5.713862e+00 -2.137439e+00 -2.301934e+00   \n",
       "25%   -8.943464e-01  -6.122812e-01 -4.864514e-01 -6.205305e-01 -5.896765e-01   \n",
       "50%    8.680524e-02   2.052925e-02 -3.027472e-01  3.261267e-01  4.379240e-01   \n",
       "75%    7.664203e-01   6.319640e-01  1.375712e-01  8.230149e-01  7.847073e-01   \n",
       "max    2.023014e+00   3.837533e+00  6.965331e+00  1.054376e+00  9.682936e-01   \n",
       "\n",
       "         Diphtheria       Measles      HIV_AIDS           BMI       Alcohol  \\\n",
       "count  2.332000e+03  2.332000e+03  2.332000e+03  2.332000e+03  2.332000e+03   \n",
       "mean   2.509190e-16 -3.513485e-17  3.234024e-16  2.756514e-17 -3.299486e-16   \n",
       "std    1.000214e+00  1.000214e+00  1.000214e+00  1.000214e+00  1.000214e+00   \n",
       "min   -2.294181e+00 -1.164961e+00 -6.980614e-01 -1.967790e+00 -3.653693e+00   \n",
       "25%   -5.651126e-01 -1.164961e+00 -6.980614e-01 -9.202777e-01 -8.776935e-01   \n",
       "50%    4.458735e-01  8.271702e-02 -6.980614e-01  2.778406e-01  9.328772e-02   \n",
       "75%    7.920317e-01  9.518799e-01  8.031990e-01  8.976870e-01  8.582660e-01   \n",
       "max    9.752598e-01  1.939757e+00  1.924178e+00  1.873002e+00  2.141769e+00   \n",
       "\n",
       "       thinness__1_19_years  infant_deaths  Adult_Mortality  \n",
       "count          2.332000e+03   2.332000e+03     2.332000e+03  \n",
       "mean          -2.217113e-16  -2.875535e-17     2.647015e-17  \n",
       "std            1.000214e+00   1.000214e+00     1.000214e+00  \n",
       "min           -2.123135e+00  -1.223856e+00    -2.328975e+00  \n",
       "25%           -7.779852e-01  -1.223856e+00    -6.241792e-01  \n",
       "50%           -4.392446e-02  -6.423567e-02     6.766843e-02  \n",
       "75%            8.447315e-01   9.396221e-01     6.731137e-01  \n",
       "max            2.411944e+00   2.143920e+00     2.849686e+00  "
      ]
     },
     "execution_count": 30,
     "metadata": {},
     "output_type": "execute_result"
    }
   ],
   "source": [
    "df_train_preprx.drop(columns='Status_Developing').describe()"
   ]
  },
  {
   "cell_type": "markdown",
   "id": "6bf8769f",
   "metadata": {},
   "source": [
    "Se puede ver el escalado final en las numéricas (en este caso por un parámetro de PowerTransformer)"
   ]
  },
  {
   "cell_type": "code",
   "execution_count": 31,
   "id": "0227ce58-18d1-4d19-b6d6-96a77f60eb2a",
   "metadata": {},
   "outputs": [
    {
     "data": {
      "text/plain": [
       "1.0    1923\n",
       "0.0     409\n",
       "Name: Status_Developing, dtype: int64"
      ]
     },
     "execution_count": 31,
     "metadata": {},
     "output_type": "execute_result"
    }
   ],
   "source": [
    "df_train_preprx.Status_Developing.value_counts()"
   ]
  },
  {
   "cell_type": "code",
   "execution_count": null,
   "id": "15ff9027-dd5b-4f31-a19c-a2224e1f17a3",
   "metadata": {},
   "outputs": [],
   "source": []
  },
  {
   "cell_type": "code",
   "execution_count": 32,
   "id": "95758152",
   "metadata": {},
   "outputs": [
    {
     "name": "stdout",
     "output_type": "stream",
     "text": [
      "<class 'pandas.core.frame.DataFrame'>\n",
      "RangeIndex: 584 entries, 0 to 583\n",
      "Data columns (total 14 columns):\n",
      " #   Column                Non-Null Count  Dtype  \n",
      "---  ------                --------------  -----  \n",
      " 0   Income_index          584 non-null    float64\n",
      " 1   pct_total_exp         584 non-null    float64\n",
      " 2   GDP                   584 non-null    float64\n",
      " 3   Hepatitis_B           584 non-null    float64\n",
      " 4   Polio                 584 non-null    float64\n",
      " 5   Diphtheria            584 non-null    float64\n",
      " 6   Measles               584 non-null    float64\n",
      " 7   HIV_AIDS              584 non-null    float64\n",
      " 8   BMI                   584 non-null    float64\n",
      " 9   Alcohol               584 non-null    float64\n",
      " 10  thinness__1_19_years  584 non-null    float64\n",
      " 11  infant_deaths         584 non-null    float64\n",
      " 12  Adult_Mortality       584 non-null    float64\n",
      " 13  Status_Developing     584 non-null    float64\n",
      "dtypes: float64(14)\n",
      "memory usage: 64.0 KB\n"
     ]
    }
   ],
   "source": [
    "df_test_preprx = pd.DataFrame(data=X_test_preprx, columns=labels_col)\n",
    "\n",
    "df_test_preprx.info()"
   ]
  },
  {
   "cell_type": "code",
   "execution_count": 33,
   "id": "36f048fa",
   "metadata": {
    "scrolled": true
   },
   "outputs": [
    {
     "data": {
      "text/html": [
       "<div>\n",
       "<style scoped>\n",
       "    .dataframe tbody tr th:only-of-type {\n",
       "        vertical-align: middle;\n",
       "    }\n",
       "\n",
       "    .dataframe tbody tr th {\n",
       "        vertical-align: top;\n",
       "    }\n",
       "\n",
       "    .dataframe thead th {\n",
       "        text-align: right;\n",
       "    }\n",
       "</style>\n",
       "<table border=\"1\" class=\"dataframe\">\n",
       "  <thead>\n",
       "    <tr style=\"text-align: right;\">\n",
       "      <th></th>\n",
       "      <th>Income_index</th>\n",
       "      <th>pct_total_exp</th>\n",
       "      <th>GDP</th>\n",
       "      <th>Hepatitis_B</th>\n",
       "      <th>Polio</th>\n",
       "      <th>Diphtheria</th>\n",
       "      <th>Measles</th>\n",
       "      <th>HIV_AIDS</th>\n",
       "      <th>BMI</th>\n",
       "      <th>Alcohol</th>\n",
       "      <th>thinness__1_19_years</th>\n",
       "      <th>infant_deaths</th>\n",
       "      <th>Adult_Mortality</th>\n",
       "    </tr>\n",
       "  </thead>\n",
       "  <tbody>\n",
       "    <tr>\n",
       "      <th>count</th>\n",
       "      <td>584.000000</td>\n",
       "      <td>584.000000</td>\n",
       "      <td>584.000000</td>\n",
       "      <td>584.000000</td>\n",
       "      <td>584.000000</td>\n",
       "      <td>584.000000</td>\n",
       "      <td>584.000000</td>\n",
       "      <td>584.000000</td>\n",
       "      <td>584.000000</td>\n",
       "      <td>584.000000</td>\n",
       "      <td>584.000000</td>\n",
       "      <td>584.000000</td>\n",
       "      <td>584.000000</td>\n",
       "    </tr>\n",
       "    <tr>\n",
       "      <th>mean</th>\n",
       "      <td>0.005471</td>\n",
       "      <td>-0.019598</td>\n",
       "      <td>0.058726</td>\n",
       "      <td>-0.064816</td>\n",
       "      <td>-0.048701</td>\n",
       "      <td>-0.046565</td>\n",
       "      <td>0.026849</td>\n",
       "      <td>0.018532</td>\n",
       "      <td>0.008869</td>\n",
       "      <td>0.036162</td>\n",
       "      <td>0.028046</td>\n",
       "      <td>-0.016108</td>\n",
       "      <td>0.056691</td>\n",
       "    </tr>\n",
       "    <tr>\n",
       "      <th>std</th>\n",
       "      <td>1.008417</td>\n",
       "      <td>1.025581</td>\n",
       "      <td>1.094174</td>\n",
       "      <td>1.003979</td>\n",
       "      <td>1.015836</td>\n",
       "      <td>1.019267</td>\n",
       "      <td>1.005701</td>\n",
       "      <td>1.013339</td>\n",
       "      <td>0.993145</td>\n",
       "      <td>1.022099</td>\n",
       "      <td>1.010814</td>\n",
       "      <td>1.023824</td>\n",
       "      <td>1.021562</td>\n",
       "    </tr>\n",
       "    <tr>\n",
       "      <th>min</th>\n",
       "      <td>-2.081440</td>\n",
       "      <td>-2.449746</td>\n",
       "      <td>-4.698649</td>\n",
       "      <td>-2.137788</td>\n",
       "      <td>-2.301934</td>\n",
       "      <td>-2.293994</td>\n",
       "      <td>-1.164961</td>\n",
       "      <td>-0.698061</td>\n",
       "      <td>-1.996493</td>\n",
       "      <td>-1.505357</td>\n",
       "      <td>-2.123135</td>\n",
       "      <td>-1.223856</td>\n",
       "      <td>-2.328975</td>\n",
       "    </tr>\n",
       "    <tr>\n",
       "      <th>25%</th>\n",
       "      <td>-0.920219</td>\n",
       "      <td>-0.629826</td>\n",
       "      <td>-0.489835</td>\n",
       "      <td>-0.703295</td>\n",
       "      <td>-0.753305</td>\n",
       "      <td>-0.685679</td>\n",
       "      <td>-1.164961</td>\n",
       "      <td>-0.698061</td>\n",
       "      <td>-0.914944</td>\n",
       "      <td>-0.878917</td>\n",
       "      <td>-0.777985</td>\n",
       "      <td>-1.223856</td>\n",
       "      <td>-0.599702</td>\n",
       "    </tr>\n",
       "    <tr>\n",
       "      <th>50%</th>\n",
       "      <td>0.116022</td>\n",
       "      <td>0.014177</td>\n",
       "      <td>-0.301260</td>\n",
       "      <td>0.255915</td>\n",
       "      <td>0.437924</td>\n",
       "      <td>0.363476</td>\n",
       "      <td>0.157983</td>\n",
       "      <td>-0.698061</td>\n",
       "      <td>0.294662</td>\n",
       "      <td>0.118848</td>\n",
       "      <td>0.020582</td>\n",
       "      <td>-0.064236</td>\n",
       "      <td>0.100987</td>\n",
       "    </tr>\n",
       "    <tr>\n",
       "      <th>75%</th>\n",
       "      <td>0.730912</td>\n",
       "      <td>0.673852</td>\n",
       "      <td>0.205126</td>\n",
       "      <td>0.823015</td>\n",
       "      <td>0.784707</td>\n",
       "      <td>0.792032</td>\n",
       "      <td>0.976830</td>\n",
       "      <td>0.921612</td>\n",
       "      <td>0.882587</td>\n",
       "      <td>0.868869</td>\n",
       "      <td>0.876793</td>\n",
       "      <td>0.955462</td>\n",
       "      <td>0.698697</td>\n",
       "    </tr>\n",
       "    <tr>\n",
       "      <th>max</th>\n",
       "      <td>2.047695</td>\n",
       "      <td>3.731255</td>\n",
       "      <td>6.667203</td>\n",
       "      <td>1.054376</td>\n",
       "      <td>0.968294</td>\n",
       "      <td>0.975260</td>\n",
       "      <td>1.903577</td>\n",
       "      <td>1.923572</td>\n",
       "      <td>1.788303</td>\n",
       "      <td>2.015509</td>\n",
       "      <td>2.395465</td>\n",
       "      <td>2.125157</td>\n",
       "      <td>2.770716</td>\n",
       "    </tr>\n",
       "  </tbody>\n",
       "</table>\n",
       "</div>"
      ],
      "text/plain": [
       "       Income_index  pct_total_exp         GDP  Hepatitis_B       Polio  \\\n",
       "count    584.000000     584.000000  584.000000   584.000000  584.000000   \n",
       "mean       0.005471      -0.019598    0.058726    -0.064816   -0.048701   \n",
       "std        1.008417       1.025581    1.094174     1.003979    1.015836   \n",
       "min       -2.081440      -2.449746   -4.698649    -2.137788   -2.301934   \n",
       "25%       -0.920219      -0.629826   -0.489835    -0.703295   -0.753305   \n",
       "50%        0.116022       0.014177   -0.301260     0.255915    0.437924   \n",
       "75%        0.730912       0.673852    0.205126     0.823015    0.784707   \n",
       "max        2.047695       3.731255    6.667203     1.054376    0.968294   \n",
       "\n",
       "       Diphtheria     Measles    HIV_AIDS         BMI     Alcohol  \\\n",
       "count  584.000000  584.000000  584.000000  584.000000  584.000000   \n",
       "mean    -0.046565    0.026849    0.018532    0.008869    0.036162   \n",
       "std      1.019267    1.005701    1.013339    0.993145    1.022099   \n",
       "min     -2.293994   -1.164961   -0.698061   -1.996493   -1.505357   \n",
       "25%     -0.685679   -1.164961   -0.698061   -0.914944   -0.878917   \n",
       "50%      0.363476    0.157983   -0.698061    0.294662    0.118848   \n",
       "75%      0.792032    0.976830    0.921612    0.882587    0.868869   \n",
       "max      0.975260    1.903577    1.923572    1.788303    2.015509   \n",
       "\n",
       "       thinness__1_19_years  infant_deaths  Adult_Mortality  \n",
       "count            584.000000     584.000000       584.000000  \n",
       "mean               0.028046      -0.016108         0.056691  \n",
       "std                1.010814       1.023824         1.021562  \n",
       "min               -2.123135      -1.223856        -2.328975  \n",
       "25%               -0.777985      -1.223856        -0.599702  \n",
       "50%                0.020582      -0.064236         0.100987  \n",
       "75%                0.876793       0.955462         0.698697  \n",
       "max                2.395465       2.125157         2.770716  "
      ]
     },
     "execution_count": 33,
     "metadata": {},
     "output_type": "execute_result"
    }
   ],
   "source": [
    "df_test_preprx.drop(columns='Status_Developing').describe()"
   ]
  },
  {
   "cell_type": "markdown",
   "id": "326d1e4a",
   "metadata": {},
   "source": [
    "Este puede diferir del escalado, recordar que se entrenó solo con el train, al test se le aplicó la transformación (data leakage)"
   ]
  },
  {
   "cell_type": "code",
   "execution_count": 34,
   "id": "b88670eb-4358-4aa6-8b16-06e0988b74b8",
   "metadata": {},
   "outputs": [
    {
     "data": {
      "text/plain": [
       "1.0    481\n",
       "0.0    103\n",
       "Name: Status_Developing, dtype: int64"
      ]
     },
     "execution_count": 34,
     "metadata": {},
     "output_type": "execute_result"
    }
   ],
   "source": [
    "df_test_preprx.Status_Developing.value_counts()"
   ]
  },
  {
   "cell_type": "code",
   "execution_count": null,
   "id": "521e45cb-e191-4521-ae3a-c909064945f3",
   "metadata": {},
   "outputs": [],
   "source": []
  },
  {
   "cell_type": "code",
   "execution_count": null,
   "id": "e8c30650-c605-43aa-b1c8-722e7cce2135",
   "metadata": {},
   "outputs": [],
   "source": []
  },
  {
   "cell_type": "markdown",
   "id": "ab14d7e8",
   "metadata": {},
   "source": [
    "### Guardamos preprx"
   ]
  },
  {
   "cell_type": "code",
   "execution_count": 35,
   "id": "402a9279-bc97-4d5a-ae72-ea9044eec202",
   "metadata": {},
   "outputs": [
    {
     "data": {
      "text/plain": [
       "['../models\\\\preprx.pkl']"
      ]
     },
     "execution_count": 35,
     "metadata": {},
     "output_type": "execute_result"
    }
   ],
   "source": [
    "preprx_file = 'preprx.pkl'\n",
    "\n",
    "joblib.dump(preprx,os.path.join(MODELS_FOLDER,preprx_file))\n"
   ]
  },
  {
   "cell_type": "code",
   "execution_count": null,
   "id": "352f9522",
   "metadata": {},
   "outputs": [],
   "source": []
  },
  {
   "cell_type": "code",
   "execution_count": null,
   "id": "95f6cd34-d21d-4e93-813a-d881204d7390",
   "metadata": {},
   "outputs": [],
   "source": []
  },
  {
   "cell_type": "markdown",
   "id": "260eb9d5-4fed-46b6-b850-974589f0c2f1",
   "metadata": {},
   "source": [
    "# MODELADO"
   ]
  },
  {
   "cell_type": "markdown",
   "id": "de8c3262",
   "metadata": {},
   "source": [
    "## PRUEBA CON MODELO BASE: regresion lineal sin ajustar"
   ]
  },
  {
   "cell_type": "code",
   "execution_count": 37,
   "id": "a8644cbc",
   "metadata": {},
   "outputs": [],
   "source": [
    "from sklearn.linear_model import LinearRegression\n",
    "\n",
    "linreg_base = LinearRegression(n_jobs= NUM_CORES)\n"
   ]
  },
  {
   "cell_type": "code",
   "execution_count": 38,
   "id": "dd2eb91e",
   "metadata": {},
   "outputs": [
    {
     "name": "stdout",
     "output_type": "stream",
     "text": [
      "TRAIN: 0.8562480082054379\n",
      "TEST: 0.8616041580399186\n"
     ]
    }
   ],
   "source": [
    "linreg_base.fit(X_train_preprx,y_train)\n",
    "\n",
    "print(f'TRAIN: {linreg_base.score(X_train_preprx,y_train)}', f'TEST: {linreg_base.score(X_test_preprx,y_test)}',sep='\\n')"
   ]
  },
  {
   "cell_type": "code",
   "execution_count": 39,
   "id": "428908c3",
   "metadata": {},
   "outputs": [
    {
     "name": "stdout",
     "output_type": "stream",
     "text": [
      "mean: 3.604777258475054, std: 0.09472428855241095\n"
     ]
    }
   ],
   "source": [
    "baseline_metrics = cross_val_score(linreg_base,X_train_preprx,y_train,scoring='neg_root_mean_squared_error')\n",
    "\n",
    "print(f'mean: {np.abs(baseline_metrics.mean())}, std: {baseline_metrics.std()}')"
   ]
  },
  {
   "cell_type": "code",
   "execution_count": 40,
   "id": "6d648142",
   "metadata": {},
   "outputs": [
    {
     "data": {
      "text/plain": [
       "3.5836134448835884"
      ]
     },
     "execution_count": 40,
     "metadata": {},
     "output_type": "execute_result"
    }
   ],
   "source": [
    "y_pred = linreg_base.predict(X_test_preprx)\n",
    "\n",
    "mean_squared_error(y_test,y_pred,squared=False)"
   ]
  },
  {
   "cell_type": "code",
   "execution_count": null,
   "id": "16080e09",
   "metadata": {},
   "outputs": [],
   "source": []
  },
  {
   "cell_type": "code",
   "execution_count": null,
   "id": "e52f5cff",
   "metadata": {},
   "outputs": [],
   "source": []
  },
  {
   "cell_type": "markdown",
   "id": "a4080d44",
   "metadata": {},
   "source": [
    "## MODELADO"
   ]
  },
  {
   "cell_type": "markdown",
   "id": "b8909ebc",
   "metadata": {},
   "source": [
    "Vamos a probar con 3 modelos: Lasso, GBRegressor y XGBoost."
   ]
  },
  {
   "cell_type": "code",
   "execution_count": 41,
   "id": "7782fd89",
   "metadata": {},
   "outputs": [],
   "source": [
    "from sklearn.linear_model import Lasso\n",
    "from sklearn.ensemble import GradientBoostingRegressor\n",
    "from xgboost import XGBRegressor"
   ]
  },
  {
   "cell_type": "code",
   "execution_count": null,
   "id": "9ff13657",
   "metadata": {},
   "outputs": [],
   "source": []
  },
  {
   "cell_type": "markdown",
   "id": "8fbad60e",
   "metadata": {},
   "source": [
    "### - LASSO"
   ]
  },
  {
   "cell_type": "code",
   "execution_count": 42,
   "id": "2e3ac3ea-8dc0-4450-a775-1d46da0710f7",
   "metadata": {},
   "outputs": [],
   "source": [
    "lasso = Lasso()\n",
    "\n",
    "param_grid = {'alpha': np.logspace(-3,4,8)}\n",
    "\n",
    "grid_lasso = GridSearchCV(estimator=lasso, param_grid=param_grid, scoring='neg_root_mean_squared_error',\n",
    "                         n_jobs=NUM_CORES, cv=RepeatedKFold(n_splits=5, n_repeats=5, random_state=22),\n",
    "                         verbose=0, return_train_score=True)"
   ]
  },
  {
   "cell_type": "code",
   "execution_count": 43,
   "id": "0bafe2fb",
   "metadata": {},
   "outputs": [],
   "source": [
    "_ = grid_lasso.fit(X_train_preprx,y_train)"
   ]
  },
  {
   "cell_type": "code",
   "execution_count": 44,
   "id": "e9b32744",
   "metadata": {},
   "outputs": [
    {
     "data": {
      "text/html": [
       "<div>\n",
       "<style scoped>\n",
       "    .dataframe tbody tr th:only-of-type {\n",
       "        vertical-align: middle;\n",
       "    }\n",
       "\n",
       "    .dataframe tbody tr th {\n",
       "        vertical-align: top;\n",
       "    }\n",
       "\n",
       "    .dataframe thead th {\n",
       "        text-align: right;\n",
       "    }\n",
       "</style>\n",
       "<table border=\"1\" class=\"dataframe\">\n",
       "  <thead>\n",
       "    <tr style=\"text-align: right;\">\n",
       "      <th></th>\n",
       "      <th>param_alpha</th>\n",
       "      <th>mean_test_score</th>\n",
       "      <th>std_test_score</th>\n",
       "      <th>mean_train_score</th>\n",
       "      <th>std_train_score</th>\n",
       "    </tr>\n",
       "  </thead>\n",
       "  <tbody>\n",
       "    <tr>\n",
       "      <th>1</th>\n",
       "      <td>0.01</td>\n",
       "      <td>-3.604626</td>\n",
       "      <td>0.093627</td>\n",
       "      <td>-3.577490</td>\n",
       "      <td>0.023502</td>\n",
       "    </tr>\n",
       "    <tr>\n",
       "      <th>0</th>\n",
       "      <td>0.001</td>\n",
       "      <td>-3.606058</td>\n",
       "      <td>0.093362</td>\n",
       "      <td>-3.577041</td>\n",
       "      <td>0.023536</td>\n",
       "    </tr>\n",
       "    <tr>\n",
       "      <th>2</th>\n",
       "      <td>0.1</td>\n",
       "      <td>-3.614020</td>\n",
       "      <td>0.098234</td>\n",
       "      <td>-3.593243</td>\n",
       "      <td>0.023228</td>\n",
       "    </tr>\n",
       "    <tr>\n",
       "      <th>3</th>\n",
       "      <td>1.0</td>\n",
       "      <td>-3.878389</td>\n",
       "      <td>0.125895</td>\n",
       "      <td>-3.867804</td>\n",
       "      <td>0.022967</td>\n",
       "    </tr>\n",
       "    <tr>\n",
       "      <th>4</th>\n",
       "      <td>10.0</td>\n",
       "      <td>-9.441943</td>\n",
       "      <td>0.334722</td>\n",
       "      <td>-9.441720</td>\n",
       "      <td>0.084002</td>\n",
       "    </tr>\n",
       "    <tr>\n",
       "      <th>5</th>\n",
       "      <td>100.0</td>\n",
       "      <td>-9.441943</td>\n",
       "      <td>0.334722</td>\n",
       "      <td>-9.441720</td>\n",
       "      <td>0.084002</td>\n",
       "    </tr>\n",
       "    <tr>\n",
       "      <th>6</th>\n",
       "      <td>1000.0</td>\n",
       "      <td>-9.441943</td>\n",
       "      <td>0.334722</td>\n",
       "      <td>-9.441720</td>\n",
       "      <td>0.084002</td>\n",
       "    </tr>\n",
       "    <tr>\n",
       "      <th>7</th>\n",
       "      <td>10000.0</td>\n",
       "      <td>-9.441943</td>\n",
       "      <td>0.334722</td>\n",
       "      <td>-9.441720</td>\n",
       "      <td>0.084002</td>\n",
       "    </tr>\n",
       "  </tbody>\n",
       "</table>\n",
       "</div>"
      ],
      "text/plain": [
       "  param_alpha  mean_test_score  std_test_score  mean_train_score  \\\n",
       "1        0.01        -3.604626        0.093627         -3.577490   \n",
       "0       0.001        -3.606058        0.093362         -3.577041   \n",
       "2         0.1        -3.614020        0.098234         -3.593243   \n",
       "3         1.0        -3.878389        0.125895         -3.867804   \n",
       "4        10.0        -9.441943        0.334722         -9.441720   \n",
       "5       100.0        -9.441943        0.334722         -9.441720   \n",
       "6      1000.0        -9.441943        0.334722         -9.441720   \n",
       "7     10000.0        -9.441943        0.334722         -9.441720   \n",
       "\n",
       "   std_train_score  \n",
       "1         0.023502  \n",
       "0         0.023536  \n",
       "2         0.023228  \n",
       "3         0.022967  \n",
       "4         0.084002  \n",
       "5         0.084002  \n",
       "6         0.084002  \n",
       "7         0.084002  "
      ]
     },
     "execution_count": 44,
     "metadata": {},
     "output_type": "execute_result"
    }
   ],
   "source": [
    "resultados_lasso = pd.DataFrame(grid_lasso.cv_results_)\n",
    "resultados_lasso.filter(regex = '(param.*|mean_t|std_t)')\\\n",
    "    .drop(columns = 'params')\\\n",
    "    .sort_values('mean_test_score', ascending = False)"
   ]
  },
  {
   "cell_type": "code",
   "execution_count": 51,
   "id": "76aaf25e",
   "metadata": {},
   "outputs": [
    {
     "name": "stdout",
     "output_type": "stream",
     "text": [
      "{'alpha': 0.01}\n"
     ]
    },
    {
     "data": {
      "text/plain": [
       "-3.580620255852547"
      ]
     },
     "execution_count": 51,
     "metadata": {},
     "output_type": "execute_result"
    }
   ],
   "source": [
    "print(grid_lasso.best_params_)\n",
    "\n",
    "grid_lasso.score(X_train_preprx,y_train)"
   ]
  },
  {
   "cell_type": "code",
   "execution_count": null,
   "id": "35f2a01a",
   "metadata": {},
   "outputs": [],
   "source": []
  },
  {
   "cell_type": "code",
   "execution_count": 52,
   "id": "54513a9b-4d70-483c-ae97-8a586bebfc80",
   "metadata": {},
   "outputs": [
    {
     "data": {
      "text/plain": [
       "-3.587121125328993"
      ]
     },
     "execution_count": 52,
     "metadata": {},
     "output_type": "execute_result"
    }
   ],
   "source": [
    "grid_lasso.score(X_test_preprx,y_test)"
   ]
  },
  {
   "cell_type": "code",
   "execution_count": null,
   "id": "7e9c65ba-0f8f-4943-a179-552591e2e4d7",
   "metadata": {},
   "outputs": [],
   "source": []
  },
  {
   "cell_type": "markdown",
   "id": "4e6756fa",
   "metadata": {},
   "source": [
    "#### Mejor un helper para cuando lo hagamos con los otros modelos"
   ]
  },
  {
   "cell_type": "code",
   "execution_count": 46,
   "id": "f87342ae",
   "metadata": {},
   "outputs": [
    {
     "data": {
      "text/html": [
       "<div>\n",
       "<style scoped>\n",
       "    .dataframe tbody tr th:only-of-type {\n",
       "        vertical-align: middle;\n",
       "    }\n",
       "\n",
       "    .dataframe tbody tr th {\n",
       "        vertical-align: top;\n",
       "    }\n",
       "\n",
       "    .dataframe thead th {\n",
       "        text-align: right;\n",
       "    }\n",
       "</style>\n",
       "<table border=\"1\" class=\"dataframe\">\n",
       "  <thead>\n",
       "    <tr style=\"text-align: right;\">\n",
       "      <th></th>\n",
       "      <th>param_alpha</th>\n",
       "      <th>mean_test_score</th>\n",
       "      <th>std_test_score</th>\n",
       "      <th>mean_train_score</th>\n",
       "      <th>std_train_score</th>\n",
       "    </tr>\n",
       "  </thead>\n",
       "  <tbody>\n",
       "    <tr>\n",
       "      <th>1</th>\n",
       "      <td>0.01</td>\n",
       "      <td>3.604626</td>\n",
       "      <td>0.093627</td>\n",
       "      <td>3.577490</td>\n",
       "      <td>0.023502</td>\n",
       "    </tr>\n",
       "    <tr>\n",
       "      <th>0</th>\n",
       "      <td>0.001</td>\n",
       "      <td>3.606058</td>\n",
       "      <td>0.093362</td>\n",
       "      <td>3.577041</td>\n",
       "      <td>0.023536</td>\n",
       "    </tr>\n",
       "    <tr>\n",
       "      <th>2</th>\n",
       "      <td>0.1</td>\n",
       "      <td>3.614020</td>\n",
       "      <td>0.098234</td>\n",
       "      <td>3.593243</td>\n",
       "      <td>0.023228</td>\n",
       "    </tr>\n",
       "    <tr>\n",
       "      <th>3</th>\n",
       "      <td>1.0</td>\n",
       "      <td>3.878389</td>\n",
       "      <td>0.125895</td>\n",
       "      <td>3.867804</td>\n",
       "      <td>0.022967</td>\n",
       "    </tr>\n",
       "    <tr>\n",
       "      <th>4</th>\n",
       "      <td>10.0</td>\n",
       "      <td>9.441943</td>\n",
       "      <td>0.334722</td>\n",
       "      <td>9.441720</td>\n",
       "      <td>0.084002</td>\n",
       "    </tr>\n",
       "  </tbody>\n",
       "</table>\n",
       "</div>"
      ],
      "text/plain": [
       "  param_alpha  mean_test_score  std_test_score  mean_train_score  \\\n",
       "1        0.01         3.604626        0.093627          3.577490   \n",
       "0       0.001         3.606058        0.093362          3.577041   \n",
       "2         0.1         3.614020        0.098234          3.593243   \n",
       "3         1.0         3.878389        0.125895          3.867804   \n",
       "4        10.0         9.441943        0.334722          9.441720   \n",
       "\n",
       "   std_train_score  \n",
       "1         0.023502  \n",
       "0         0.023536  \n",
       "2         0.023228  \n",
       "3         0.022967  \n",
       "4         0.084002  "
      ]
     },
     "execution_count": 46,
     "metadata": {},
     "output_type": "execute_result"
    },
    {
     "data": {
      "image/png": "[encoded data removed]",
      "text/plain": [
       "<Figure size 720x360 with 1 Axes>"
      ]
     },
     "metadata": {},
     "output_type": "display_data"
    }
   ],
   "source": [
    "from cust_model_plot import resultados_GSearchCV\n",
    "\n",
    "resultados_GSearchCV(grid_lasso.cv_results_,metric_descrip=grid_lasso.scoring)"
   ]
  },
  {
   "cell_type": "code",
   "execution_count": null,
   "id": "d30a7d76-0888-4d53-99c6-851ada2242e1",
   "metadata": {},
   "outputs": [],
   "source": []
  },
  {
   "cell_type": "code",
   "execution_count": 47,
   "id": "940debab",
   "metadata": {},
   "outputs": [
    {
     "data": {
      "text/plain": [
       "-3.587121125328993"
      ]
     },
     "execution_count": 47,
     "metadata": {},
     "output_type": "execute_result"
    }
   ],
   "source": [
    "grid_lasso.score(X_test_preprx,y_test)"
   ]
  },
  {
   "cell_type": "code",
   "execution_count": null,
   "id": "202280d5",
   "metadata": {},
   "outputs": [],
   "source": []
  },
  {
   "cell_type": "markdown",
   "id": "a20b5e6a",
   "metadata": {},
   "source": [
    "#### HELPER FEATURE IMPORTANCE"
   ]
  },
  {
   "cell_type": "code",
   "execution_count": 48,
   "id": "9fa9f6c1",
   "metadata": {},
   "outputs": [
    {
     "data": {
      "image/png": "[encoded data removed]",
      "text/plain": [
       "<Figure size 720x864 with 1 Axes>"
      ]
     },
     "metadata": {},
     "output_type": "display_data"
    }
   ],
   "source": [
    "from cust_model_plot import plot_feature_importance\n",
    "\n",
    "plot_feature_importance(column_names=df_train_preprx.columns, \n",
    "                        model_importance=grid_lasso.best_estimator_.coef_, \n",
    "                        model_based_type='linear')"
   ]
  },
  {
   "cell_type": "code",
   "execution_count": null,
   "id": "26c628e8-96f2-41a2-9853-b45f5ac334b2",
   "metadata": {},
   "outputs": [],
   "source": []
  },
  {
   "cell_type": "code",
   "execution_count": null,
   "id": "5dd8008a-1422-4abe-9fc9-0f112735515d",
   "metadata": {},
   "outputs": [],
   "source": []
  },
  {
   "cell_type": "markdown",
   "id": "ce70461d-3437-4ac4-a940-3751553e02e8",
   "metadata": {},
   "source": [
    "### GRADIENT BOOST REGRESSOR"
   ]
  },
  {
   "cell_type": "code",
   "execution_count": 49,
   "id": "040d3246-d755-4be1-82f4-0e0149aa95bd",
   "metadata": {},
   "outputs": [],
   "source": [
    "### GBRegressor.\n",
    "\n",
    "gbreg = GradientBoostingRegressor(n_estimators=500,random_state=22,verbose=0,\n",
    "                                  validation_fraction=0.1,n_iter_no_change=5, tol=1.e-4)\n",
    "\n",
    "\n",
    "\n",
    "param_grid_gbr = {'learning_rate': np.logspace(-3,2,6),\n",
    "                 'max_depth': [3,5,7,10],\n",
    "                 'subsample': [0.5,0.7,1.0],\n",
    "                 'max_features': [None,'sqrt']}\n",
    "\n",
    "grid_gbreg = GridSearchCV(estimator=gbreg, param_grid=param_grid_gbr, scoring='neg_root_mean_squared_error',\n",
    "                          n_jobs=NUM_CORES, cv=RepeatedKFold(n_splits=5, n_repeats=3, random_state=22),\n",
    "                          verbose=0, refit=True, return_train_score=True)\n",
    "\n"
   ]
  },
  {
   "cell_type": "code",
   "execution_count": 50,
   "id": "d9525a23",
   "metadata": {},
   "outputs": [],
   "source": [
    "_ = grid_gbreg.fit(X_train_preprx,y_train)"
   ]
  },
  {
   "cell_type": "code",
   "execution_count": 53,
   "id": "a8440a77",
   "metadata": {},
   "outputs": [
    {
     "data": {
      "text/html": [
       "<div>\n",
       "<style scoped>\n",
       "    .dataframe tbody tr th:only-of-type {\n",
       "        vertical-align: middle;\n",
       "    }\n",
       "\n",
       "    .dataframe tbody tr th {\n",
       "        vertical-align: top;\n",
       "    }\n",
       "\n",
       "    .dataframe thead th {\n",
       "        text-align: right;\n",
       "    }\n",
       "</style>\n",
       "<table border=\"1\" class=\"dataframe\">\n",
       "  <thead>\n",
       "    <tr style=\"text-align: right;\">\n",
       "      <th></th>\n",
       "      <th>param_learning_rate</th>\n",
       "      <th>param_max_depth</th>\n",
       "      <th>param_max_features</th>\n",
       "      <th>param_subsample</th>\n",
       "      <th>mean_test_score</th>\n",
       "      <th>std_test_score</th>\n",
       "      <th>mean_train_score</th>\n",
       "      <th>std_train_score</th>\n",
       "    </tr>\n",
       "  </thead>\n",
       "  <tbody>\n",
       "    <tr>\n",
       "      <th>42</th>\n",
       "      <td>0.01</td>\n",
       "      <td>10</td>\n",
       "      <td>None</td>\n",
       "      <td>0.5</td>\n",
       "      <td>1.894684</td>\n",
       "      <td>0.113137</td>\n",
       "      <td>0.719100</td>\n",
       "      <td>0.055111</td>\n",
       "    </tr>\n",
       "    <tr>\n",
       "      <th>43</th>\n",
       "      <td>0.01</td>\n",
       "      <td>10</td>\n",
       "      <td>None</td>\n",
       "      <td>0.7</td>\n",
       "      <td>1.914009</td>\n",
       "      <td>0.121618</td>\n",
       "      <td>0.651560</td>\n",
       "      <td>0.064798</td>\n",
       "    </tr>\n",
       "    <tr>\n",
       "      <th>46</th>\n",
       "      <td>0.01</td>\n",
       "      <td>10</td>\n",
       "      <td>sqrt</td>\n",
       "      <td>0.7</td>\n",
       "      <td>1.931575</td>\n",
       "      <td>0.101976</td>\n",
       "      <td>0.653638</td>\n",
       "      <td>0.052229</td>\n",
       "    </tr>\n",
       "    <tr>\n",
       "      <th>47</th>\n",
       "      <td>0.01</td>\n",
       "      <td>10</td>\n",
       "      <td>sqrt</td>\n",
       "      <td>1.0</td>\n",
       "      <td>1.941193</td>\n",
       "      <td>0.107213</td>\n",
       "      <td>0.625807</td>\n",
       "      <td>0.053576</td>\n",
       "    </tr>\n",
       "    <tr>\n",
       "      <th>37</th>\n",
       "      <td>0.01</td>\n",
       "      <td>7</td>\n",
       "      <td>None</td>\n",
       "      <td>0.7</td>\n",
       "      <td>1.942505</td>\n",
       "      <td>0.112995</td>\n",
       "      <td>0.916451</td>\n",
       "      <td>0.052950</td>\n",
       "    </tr>\n",
       "  </tbody>\n",
       "</table>\n",
       "</div>"
      ],
      "text/plain": [
       "   param_learning_rate param_max_depth param_max_features param_subsample  \\\n",
       "42                0.01              10               None             0.5   \n",
       "43                0.01              10               None             0.7   \n",
       "46                0.01              10               sqrt             0.7   \n",
       "47                0.01              10               sqrt             1.0   \n",
       "37                0.01               7               None             0.7   \n",
       "\n",
       "    mean_test_score  std_test_score  mean_train_score  std_train_score  \n",
       "42         1.894684        0.113137          0.719100         0.055111  \n",
       "43         1.914009        0.121618          0.651560         0.064798  \n",
       "46         1.931575        0.101976          0.653638         0.052229  \n",
       "47         1.941193        0.107213          0.625807         0.053576  \n",
       "37         1.942505        0.112995          0.916451         0.052950  "
      ]
     },
     "execution_count": 53,
     "metadata": {},
     "output_type": "execute_result"
    },
    {
     "data": {
      "image/png": "[encoded data removed]",
      "text/plain": [
       "<Figure size 720x360 with 1 Axes>"
      ]
     },
     "metadata": {},
     "output_type": "display_data"
    }
   ],
   "source": [
    "resultados_GSearchCV(grid_gbreg.cv_results_,metric_descrip=grid_gbreg.scoring)"
   ]
  },
  {
   "cell_type": "code",
   "execution_count": null,
   "id": "53010b4c",
   "metadata": {},
   "outputs": [],
   "source": []
  },
  {
   "cell_type": "code",
   "execution_count": 54,
   "id": "7cdb9d19",
   "metadata": {},
   "outputs": [
    {
     "name": "stdout",
     "output_type": "stream",
     "text": [
      "{'learning_rate': 0.01, 'max_depth': 10, 'max_features': None, 'subsample': 0.5}\n"
     ]
    },
    {
     "data": {
      "text/plain": [
       "-1.9103348841664454"
      ]
     },
     "execution_count": 54,
     "metadata": {},
     "output_type": "execute_result"
    }
   ],
   "source": [
    "print(grid_gbreg.best_params_)\n",
    "\n",
    "grid_gbreg.score(X_test_preprx,y_test)"
   ]
  },
  {
   "cell_type": "code",
   "execution_count": 55,
   "id": "38fa46f4",
   "metadata": {},
   "outputs": [
    {
     "data": {
      "text/plain": [
       "417"
      ]
     },
     "execution_count": 55,
     "metadata": {},
     "output_type": "execute_result"
    }
   ],
   "source": [
    "grid_gbreg.best_estimator_.n_estimators_\n"
   ]
  },
  {
   "cell_type": "code",
   "execution_count": null,
   "id": "e234fef6",
   "metadata": {},
   "outputs": [],
   "source": []
  },
  {
   "cell_type": "code",
   "execution_count": 56,
   "id": "b2f846c1",
   "metadata": {},
   "outputs": [
    {
     "data": {
      "image/png": "[encoded data removed]",
      "text/plain": [
       "<Figure size 720x864 with 1 Axes>"
      ]
     },
     "metadata": {},
     "output_type": "display_data"
    }
   ],
   "source": [
    "plot_feature_importance(column_names=df_train_preprx.columns, \n",
    "                        model_importance=grid_gbreg.best_estimator_.feature_importances_, \n",
    "                        model_based_type='tree')"
   ]
  },
  {
   "cell_type": "code",
   "execution_count": null,
   "id": "8216cf7b",
   "metadata": {},
   "outputs": [],
   "source": []
  },
  {
   "cell_type": "code",
   "execution_count": null,
   "id": "a0ffd86c",
   "metadata": {},
   "outputs": [],
   "source": []
  },
  {
   "cell_type": "markdown",
   "id": "1d080fd3",
   "metadata": {},
   "source": [
    "### - XGBRegressor."
   ]
  },
  {
   "cell_type": "code",
   "execution_count": null,
   "id": "ac3f5120",
   "metadata": {},
   "outputs": [],
   "source": [
    "xgbregr = XGBRegressor(n_estimators=1000, booster='gbtree', random_state=22, n_jobs=NUM_CORES, verbosity=0)\n",
    "\n"
   ]
  },
  {
   "cell_type": "code",
   "execution_count": null,
   "id": "cd7c0e59",
   "metadata": {},
   "outputs": [],
   "source": [
    "# a diferencia de GBRegr de scikit, xgboost no crea de forma automatica cjto validación para el early stopping\n",
    "# debemos crear una particion del TRAIN: 'train_grid' (fit de GridSearch) y 'val' que habrá que pasar junto\n",
    "# a los parámetros relativos al early stopping como fit_params\n",
    "\n",
    "# creamos partición para 'early stopping' (0.1 proporc)\n",
    "np.random.seed(123)\n",
    "idx_validacion = np.random.choice(X_train_preprx.shape[0], size= int(X_train_preprx.shape[0]*0.1), replace=False)\n",
    "\n",
    "X_val = df_train_preprx.iloc[idx_validacion, :].copy()\n",
    "y_val = y_train.iloc[idx_validacion].copy()\n",
    "\n",
    "X_train_grid = df_train_preprx.reset_index(drop = True).drop(idx_validacion, axis = 0).copy()\n",
    "y_train_grid = y_train.reset_index(drop = True).drop(idx_validacion, axis = 0).copy()\n",
    "\n",
    "\n",
    "# XGBoost necesita pasar los paramétros específicos del entrenamiento al llamar\n",
    "# al método .fit()\n",
    "fit_params = {\"early_stopping_rounds\" : 5, \n",
    "              \"eval_metric\"           : \"rmse\", \n",
    "              \"eval_set\"              : [(X_val, y_val)],\n",
    "              \"verbose\"               : False}\n",
    "\n",
    "\n",
    "# Grid Search CV\n",
    "param_grid_xgbr = {'learning_rate'    : np.logspace(-4,1,num=6),\n",
    "                   'max_depth'        : [1, 3, 5, 7, 10, 20],\n",
    "                   'subsample'        : [0.5, 0.7, 1],\n",
    "                   'colsample_bynode ': [0.3, 0.5, 1]}\n",
    "\n",
    "grid_xgb = GridSearchCV(estimator=xgbregr, param_grid=param_grid_gbr, scoring='neg_root_mean_squared_error',\n",
    "                        n_jobs=NUM_CORES, cv=RepeatedKFold(n_splits=5, n_repeats=3, random_state=22),\n",
    "                        verbose=0, refit=True, return_train_score=True)\n",
    "\n",
    "_ = grid_xgb.fit(X_train_grid,y_train_grid,**fit_params)\n",
    "\n",
    "\n"
   ]
  },
  {
   "cell_type": "code",
   "execution_count": null,
   "id": "9b91a96b",
   "metadata": {},
   "outputs": [],
   "source": []
  },
  {
   "cell_type": "code",
   "execution_count": null,
   "id": "32d6859c",
   "metadata": {},
   "outputs": [],
   "source": [
    "resultados_GSearchCV(grid_xgb.cv_results_,metric_descrip=grid_xgb.scoring)"
   ]
  },
  {
   "cell_type": "code",
   "execution_count": null,
   "id": "e0d173bd",
   "metadata": {},
   "outputs": [],
   "source": [
    "grid_xgb.score(df_test_preprx,y_test)"
   ]
  },
  {
   "cell_type": "code",
   "execution_count": null,
   "id": "9b1d90e1",
   "metadata": {},
   "outputs": [],
   "source": [
    "grid_xgb.best_estimator_.n_estimators"
   ]
  },
  {
   "cell_type": "code",
   "execution_count": null,
   "id": "d8a6a81a",
   "metadata": {},
   "outputs": [],
   "source": []
  },
  {
   "cell_type": "code",
   "execution_count": null,
   "id": "5d06c6f6",
   "metadata": {},
   "outputs": [],
   "source": [
    "plot_feature_importance(column_names=df_train_preprx.columns, \n",
    "                        model_importance=grid_xgb.best_estimator_.feature_importances_, \n",
    "                        model_based_type='tree')"
   ]
  },
  {
   "cell_type": "code",
   "execution_count": null,
   "id": "c5008add",
   "metadata": {},
   "outputs": [],
   "source": []
  },
  {
   "cell_type": "code",
   "execution_count": null,
   "id": "ab90f318",
   "metadata": {},
   "outputs": [],
   "source": []
  },
  {
   "cell_type": "markdown",
   "id": "98a1de40",
   "metadata": {},
   "source": [
    "### Vamos a probar con otro preprocesado, sin PowerTransf ni escalado para el XGBoost:\n",
    "\n",
    "#### Nuevo preprocesado sin Power Transform ni escalado"
   ]
  },
  {
   "cell_type": "code",
   "execution_count": null,
   "id": "94917cf6",
   "metadata": {},
   "outputs": [],
   "source": [
    "num_transformer_xgb = IterativeImputer(random_state=22)\n",
    "\n",
    "categ_transformer_xgb = OneHotEncoder(drop='if_binary', dtype=np.int32)\n",
    "\n",
    "preprx_xgb = ColumnTransformer(transformers=[('numeric',num_transformer_xgb,num_col), \n",
    "                                             ('category',categ_transformer_xgb,categ_col)], \n",
    "                               remainder='passthrough')\n",
    "\n",
    "\n",
    "# estimator=ExtraTreesRegressor(max_depth=5,random_state=22,n_jobs=multiprocessing.cpu_count()-1)"
   ]
  },
  {
   "cell_type": "code",
   "execution_count": null,
   "id": "b4d62a72",
   "metadata": {},
   "outputs": [],
   "source": [
    "from sklearn import set_config\n",
    "set_config(display='diagram')\n",
    "\n",
    "preprx_xgb"
   ]
  },
  {
   "cell_type": "code",
   "execution_count": null,
   "id": "b8925c64",
   "metadata": {},
   "outputs": [],
   "source": [
    "set_config(display='text')"
   ]
  },
  {
   "cell_type": "code",
   "execution_count": null,
   "id": "3258c0ee",
   "metadata": {},
   "outputs": [],
   "source": []
  },
  {
   "cell_type": "code",
   "execution_count": null,
   "id": "b548324f",
   "metadata": {},
   "outputs": [],
   "source": [
    "X_train_preprx_xgb = preprx_xgb.fit_transform(X_train)\n",
    "X_test_preprx_xgb = preprx_xgb.transform(X_test)"
   ]
  },
  {
   "cell_type": "code",
   "execution_count": null,
   "id": "9b28dc39",
   "metadata": {},
   "outputs": [],
   "source": []
  },
  {
   "cell_type": "code",
   "execution_count": null,
   "id": "3bebcd56",
   "metadata": {},
   "outputs": [],
   "source": [
    "# las transformaciones (preprx) alteran orden columnas (p. ej. OHE)\n",
    "\n",
    "encode_categ_labels = preprx_xgb.named_transformers_.category.get_feature_names_out(categ_col)\n",
    "labels_col = np.concatenate([num_col,encode_categ_labels])\n",
    "\n",
    "labels_col"
   ]
  },
  {
   "cell_type": "code",
   "execution_count": null,
   "id": "e9ad466f",
   "metadata": {},
   "outputs": [],
   "source": [
    "df_train_preprx_xgb = pd.DataFrame(data=X_train_preprx_xgb, columns=labels_col)\n",
    "\n",
    "df_train_preprx_xgb.describe()"
   ]
  },
  {
   "cell_type": "code",
   "execution_count": null,
   "id": "30c85436",
   "metadata": {},
   "outputs": [],
   "source": [
    "df_train_preprx_xgb.head()"
   ]
  },
  {
   "cell_type": "code",
   "execution_count": null,
   "id": "1a5dd170",
   "metadata": {},
   "outputs": [],
   "source": [
    "df_test_preprx_xgb = pd.DataFrame(data=X_test_preprx_xgb, columns=labels_col)\n",
    "\n",
    "df_test_preprx_xgb.describe()"
   ]
  },
  {
   "cell_type": "code",
   "execution_count": null,
   "id": "2e2a6131",
   "metadata": {},
   "outputs": [],
   "source": []
  },
  {
   "cell_type": "code",
   "execution_count": null,
   "id": "c14156ed-95bd-4be9-8707-f2627943c83b",
   "metadata": {},
   "outputs": [],
   "source": []
  },
  {
   "cell_type": "markdown",
   "id": "d2ee0741-94c9-4cda-9bb5-3b33010d96bd",
   "metadata": {},
   "source": [
    "#### Grid Search XGB con el nuevo preprocesado"
   ]
  },
  {
   "cell_type": "code",
   "execution_count": null,
   "id": "e51b76eb",
   "metadata": {},
   "outputs": [],
   "source": [
    "# a diferencia de GBRegr de scikit, xgboost no cre de forma automatica cjto validación para el early stopping\n",
    "# debemos crear una particion del TRAIN: 'train_grid' (fit de GridSearch) y 'val' que habrá que pasar junto\n",
    "# a los parámetros relativos al early stopping como fit_params\n",
    "\n",
    "# creamos partición para 'early stopping' (0.1 proporc)\n",
    "np.random.seed(123)\n",
    "idx_validacion = np.random.choice(X_train_preprx_xgb.shape[0], size= int(X_train_preprx_xgb.shape[0]*0.1), replace=False)\n",
    "\n",
    "X_val = df_train_preprx_xgb.iloc[idx_validacion, :].copy()\n",
    "y_val = y_train.iloc[idx_validacion].copy()\n",
    "\n",
    "X_train_grid = df_train_preprx_xgb.reset_index(drop = True).drop(idx_validacion, axis = 0).copy()\n",
    "y_train_grid = y_train.reset_index(drop = True).drop(idx_validacion, axis = 0).copy()\n",
    "\n",
    "\n",
    "# XGBoost necesita pasar los paramétros específicos del entrenamiento al llamar\n",
    "# al método .fit()\n",
    "fit_params = {\"early_stopping_rounds\" : 5, \n",
    "              \"eval_metric\"           : \"rmse\", \n",
    "              \"eval_set\"              : [(X_val, y_val)],\n",
    "              \"verbose\"               : False}\n",
    "\n",
    "\n",
    "# Grid Search CV\n",
    "param_grid_xgbr = {'learning_rate'    : np.logspace(-4,1,num=6),\n",
    "                   'max_depth'        : [1, 3, 5, 7, 10, 20],\n",
    "                   'subsample'        : [0.5, 0.7, 1],\n",
    "                   'colsample_bynode ': [0.3, 0.5, 1]}\n",
    "\n",
    "grid_xgb_sin_pw_transf = GridSearchCV(estimator=xgbregr, param_grid=param_grid_gbr, scoring='neg_root_mean_squared_error', \n",
    "                         n_jobs=NUM_CORES, cv=RepeatedKFold(n_splits=5, n_repeats=3, random_state=22), \n",
    "                         verbose=0, refit=True, return_train_score=True)\n",
    "\n",
    "_ = grid_xgb_sin_pw_transf.fit(X_train_grid,y_train_grid,**fit_params)\n",
    "\n",
    "\n"
   ]
  },
  {
   "cell_type": "code",
   "execution_count": null,
   "id": "2d3dca43",
   "metadata": {},
   "outputs": [],
   "source": []
  },
  {
   "cell_type": "code",
   "execution_count": null,
   "id": "a17f3435",
   "metadata": {},
   "outputs": [],
   "source": [
    "resultados_GSearchCV(grid_xgb_sin_pw_transf.cv_results_,metric_descrip=grid_xgb_sin_pw_transf.scoring)"
   ]
  },
  {
   "cell_type": "code",
   "execution_count": null,
   "id": "62ca90bb",
   "metadata": {},
   "outputs": [],
   "source": [
    "grid_xgb_sin_pw_transf.score(df_test_preprx_xgb,y_test)"
   ]
  },
  {
   "cell_type": "code",
   "execution_count": null,
   "id": "73ff279d",
   "metadata": {},
   "outputs": [],
   "source": []
  },
  {
   "cell_type": "code",
   "execution_count": null,
   "id": "e4041b2a",
   "metadata": {},
   "outputs": [],
   "source": []
  },
  {
   "cell_type": "markdown",
   "id": "21896779",
   "metadata": {},
   "source": [
    "**CONCLUSION: Eliminar del preprocesado PowerTransf y escalado no tiene efecto en XGBReg (diferencia milesimas en rsme)**"
   ]
  },
  {
   "cell_type": "code",
   "execution_count": null,
   "id": "1e76e228",
   "metadata": {},
   "outputs": [],
   "source": []
  },
  {
   "cell_type": "markdown",
   "id": "c69c9877",
   "metadata": {},
   "source": [
    "### MODELO FINAL"
   ]
  },
  {
   "cell_type": "markdown",
   "id": "ea3a49c1",
   "metadata": {},
   "source": [
    "- Partimos de Lasso, que no mejoraba practicamente el baseline (rsme=3.5 en test, similares valores resultados terst CV GridSearch)\n",
    "\n",
    "- La diferencia entre GBRegr y XGBRegr es de 3 decimas, peor el último (rsme=2 en test frente al 1.7 del primero, similares valores resultados test CV GridSearch)\n",
    "\n",
    "- En el caso del XGBRegr se ha probado con dos tipos de preprocesado, el primero al igual que los otros dos modelos aplicando PowerTransformer y escalado a las numérica, el segundo prescindiendo de esos pasos. Los resultados fueron los mismos, asi que por simplicidad si elegimos este modelo optaríamos por el preprocesado más sencillo.\n",
    "\n",
    "Entre los dos modelos Boost y con la escasa diferencia en resultado nos podríamos quedar con el XGBRegressor, con mejor performance (más rápido).\n",
    "\n",
    "Aunque también por simplicidad nos podríamos quedar con el Lasso, con diferencia en rsme muy pequeña"
   ]
  },
  {
   "cell_type": "code",
   "execution_count": null,
   "id": "29a322b6",
   "metadata": {},
   "outputs": [],
   "source": []
  },
  {
   "cell_type": "markdown",
   "id": "2bd91656",
   "metadata": {},
   "source": [
    "#### LASSO"
   ]
  },
  {
   "cell_type": "code",
   "execution_count": null,
   "id": "a0b26d21",
   "metadata": {},
   "outputs": [],
   "source": [
    "lasso_model = grid_lasso.best_estimator_\n",
    "\n",
    "lasso_model\n"
   ]
  },
  {
   "cell_type": "markdown",
   "id": "ae6c2f75",
   "metadata": {},
   "source": []
  },
  {
   "cell_type": "code",
   "execution_count": null,
   "id": "b265e73e",
   "metadata": {},
   "outputs": [],
   "source": [
    "scores_cv_lasso = cross_val_score(lasso_model,X_train_preprx,y_train, \n",
    "                                  scoring='neg_root_mean_squared_error', \n",
    "                                  cv=RepeatedKFold(n_splits=5,n_repeats=3,random_state=22), \n",
    "                                  n_jobs=NUM_CORES)\n",
    "\n",
    "print(f'Generalización RMSE Lasso: {np.abs(scores_cv_lasso.mean())} +- {scores_cv_lasso.std()}')"
   ]
  },
  {
   "cell_type": "code",
   "execution_count": null,
   "id": "5d05f00e",
   "metadata": {},
   "outputs": [],
   "source": [
    "print(f'Rcuadrado TEST: {lasso_model.score(X_test_preprx,y_test)}')"
   ]
  },
  {
   "cell_type": "code",
   "execution_count": null,
   "id": "f316e149",
   "metadata": {},
   "outputs": [],
   "source": [
    "y_pred = lasso_model.predict(X_test_preprx)\n",
    "\n",
    "print(f'RMSE TEST: {mean_squared_error(y_test,y_pred,squared=False)}')"
   ]
  },
  {
   "cell_type": "code",
   "execution_count": null,
   "id": "600e2876",
   "metadata": {},
   "outputs": [],
   "source": []
  },
  {
   "cell_type": "code",
   "execution_count": null,
   "id": "8a02bc6e",
   "metadata": {},
   "outputs": [],
   "source": [
    "lasso_file = 'lasso_model.pkl'\n",
    "\n",
    "joblib.dump(lasso_model,os.path.join(MODELS_FOLDER,lasso_file))"
   ]
  },
  {
   "cell_type": "code",
   "execution_count": null,
   "id": "b8426064",
   "metadata": {},
   "outputs": [],
   "source": []
  },
  {
   "cell_type": "code",
   "execution_count": null,
   "id": "c6005cdc",
   "metadata": {},
   "outputs": [],
   "source": []
  },
  {
   "cell_type": "markdown",
   "id": "9bc9ca7f",
   "metadata": {},
   "source": [
    "#### Para el XGboost tenemos que crear el pipeline con el preprocesado simple y el mejor modelo ya entrenado"
   ]
  },
  {
   "cell_type": "code",
   "execution_count": null,
   "id": "4041418d",
   "metadata": {},
   "outputs": [],
   "source": [
    "# guardamos preprocesado simple\n",
    "joblib.dump(preprx_xgb,os.path.join(MODELS_FOLDER,'preprx_xgb.pkl'))\n",
    "\n",
    "# \n",
    "xbr_prx_simple = grid_xgb_sin_pw_transf.best_estimator_\n",
    "\n"
   ]
  },
  {
   "cell_type": "code",
   "execution_count": null,
   "id": "a3a6ed64",
   "metadata": {},
   "outputs": [],
   "source": []
  },
  {
   "cell_type": "code",
   "execution_count": null,
   "id": "59c48d41",
   "metadata": {},
   "outputs": [],
   "source": [
    "scores_cv_xgbreg = cross_val_score(xbr_prx_simple,X_train_preprx_xgb,y_train, \n",
    "                                  scoring='neg_root_mean_squared_error', \n",
    "                                  cv=RepeatedKFold(n_splits=5,n_repeats=3,random_state=22), \n",
    "                                  n_jobs=NUM_CORES)\n",
    "\n",
    "print(f'Generalización RMSE XGBRegr: {np.abs(scores_cv_xgbreg.mean())} +- {scores_cv_xgbreg.std()}')"
   ]
  },
  {
   "cell_type": "code",
   "execution_count": null,
   "id": "52e2c54f",
   "metadata": {},
   "outputs": [],
   "source": [
    "print(f'Rcuadrado TEST: {xbr_prx_simple.score(df_test_preprx_xgb,y_test)}')"
   ]
  },
  {
   "cell_type": "code",
   "execution_count": null,
   "id": "54561b5b-b530-49fa-be73-365e6c44fe5d",
   "metadata": {},
   "outputs": [],
   "source": []
  },
  {
   "cell_type": "code",
   "execution_count": null,
   "id": "6ef9ecda",
   "metadata": {},
   "outputs": [],
   "source": [
    "y_pred = xbr_prx_simple.predict(df_test_preprx_xgb)\n",
    "\n",
    "print(f'RMSE TEST: {mean_squared_error(y_test,y_pred,squared=False)}')"
   ]
  },
  {
   "cell_type": "code",
   "execution_count": null,
   "id": "fdc36f8f",
   "metadata": {},
   "outputs": [],
   "source": []
  },
  {
   "cell_type": "code",
   "execution_count": null,
   "id": "48ab3591",
   "metadata": {},
   "outputs": [],
   "source": [
    "joblib.dump(xbr_prx_simple,os.path.join(MODELS_FOLDER,'xgbregr_model.pkl'))"
   ]
  },
  {
   "cell_type": "code",
   "execution_count": null,
   "id": "9b22738d",
   "metadata": {},
   "outputs": [],
   "source": []
  },
  {
   "cell_type": "code",
   "execution_count": null,
   "id": "4f933bab",
   "metadata": {},
   "outputs": [],
   "source": [
    "xbr_prx_simple"
   ]
  },
  {
   "cell_type": "code",
   "execution_count": null,
   "id": "cf827376",
   "metadata": {},
   "outputs": [],
   "source": []
  },
  {
   "cell_type": "code",
   "execution_count": null,
   "id": "celtic-indianapolis",
   "metadata": {},
   "outputs": [],
   "source": []
  },
  {
   "cell_type": "code",
   "execution_count": null,
   "id": "subsequent-morocco",
   "metadata": {},
   "outputs": [],
   "source": []
  },
  {
   "cell_type": "code",
   "execution_count": null,
   "id": "green-platform",
   "metadata": {},
   "outputs": [],
   "source": []
  },
  {
   "cell_type": "code",
   "execution_count": null,
   "id": "inappropriate-vacuum",
   "metadata": {},
   "outputs": [],
   "source": []
  }
 ],
 "metadata": {
  "kernelspec": {
   "display_name": "Python 3 (ipykernel)",
   "language": "python",
   "name": "python3"
  },
  "language_info": {
   "codemirror_mode": {
    "name": "ipython",
    "version": 3
   },
   "file_extension": ".py",
   "mimetype": "text/x-python",
   "name": "python",
   "nbconvert_exporter": "python",
   "pygments_lexer": "ipython3",
   "version": "3.9.7"
  },
  "toc-autonumbering": true,
  "toc-showcode": false,
  "toc-showmarkdowntxt": false
 },
 "nbformat": 4,
 "nbformat_minor": 5
}
