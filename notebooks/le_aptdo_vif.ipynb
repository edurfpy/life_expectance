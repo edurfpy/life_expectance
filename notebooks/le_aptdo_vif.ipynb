{
 "cells": [
  {
   "cell_type": "markdown",
   "id": "bdb4f73a-afa6-414d-b8a1-6005293ff0f5",
   "metadata": {},
   "source": [
    "# LIBRERIAS NECESARIAS. CONFIGURACION."
   ]
  },
  {
   "cell_type": "code",
   "execution_count": 1,
   "id": "769203d3-679b-491f-bace-9daa4120a260",
   "metadata": {},
   "outputs": [],
   "source": [
    "# Tratamiento de datos\n",
    "# ==============================================================================\n",
    "import numpy as np\n",
    "import pandas as pd\n",
    "\n",
    "\n",
    "# Gráficos\n",
    "# ==============================================================================\n",
    "import matplotlib.pyplot as plt\n",
    "from matplotlib import style\n",
    "import matplotlib.ticker as ticker\n",
    "import seaborn as sns\n",
    "\n",
    "# Preprocesado y modelado\n",
    "# ==============================================================================\n",
    "from sklearn.model_selection import train_test_split, RepeatedKFold, cross_val_score, GridSearchCV\n",
    "from sklearn.metrics import mean_squared_error\n",
    "import joblib\n",
    "\n",
    "# Varios\n",
    "# ==============================================================================\n",
    "import multiprocessing\n",
    "import os\n"
   ]
  },
  {
   "cell_type": "code",
   "execution_count": 2,
   "id": "acdb4d08-8310-44e7-a1fd-be51c971c6fa",
   "metadata": {},
   "outputs": [],
   "source": [
    "# Configuración matplotlib\n",
    "# ==============================================================================\n",
    "plt.rcParams['image.cmap'] = \"bwr\"\n",
    "#plt.rcParams['figure.dpi'] = \"100\"\n",
    "plt.rcParams['savefig.bbox'] = \"tight\"\n",
    "style.use('ggplot') or plt.style.use('ggplot')\n",
    "\n",
    "# Configuración warnings\n",
    "# ==============================================================================\n",
    "import warnings\n",
    "#warnings.filterwarnings('ignore')\n",
    "\n",
    "## Display all the columns of the dataframe\n",
    "pd.pandas.set_option('display.max_columns',None)"
   ]
  },
  {
   "cell_type": "code",
   "execution_count": null,
   "id": "538bb8ef-4787-46df-98ec-d7a2fe9a558d",
   "metadata": {},
   "outputs": [],
   "source": []
  },
  {
   "cell_type": "markdown",
   "id": "00f5a3b1-7a97-423b-a3be-3c12f12f1ad5",
   "metadata": {},
   "source": [
    "# CARGA DATOS"
   ]
  },
  {
   "cell_type": "code",
   "execution_count": 3,
   "id": "68f00c4e-cd25-4225-8918-19cb3d914e1c",
   "metadata": {},
   "outputs": [],
   "source": [
    "DATA_FOLDER = '../data'\n",
    "OUTPUT_FOLDER = '../output'\n",
    "EDA_DATAFILE = 'life_expectance_EDA.csv'\n",
    "MODELS_FOLDER = '../models'\n",
    "\n",
    "\n",
    "NUM_CORES = multiprocessing.cpu_count() - 1\n"
   ]
  },
  {
   "cell_type": "code",
   "execution_count": 4,
   "id": "43f34a6b-7af4-4c44-ab7d-b25686b80ffb",
   "metadata": {},
   "outputs": [
    {
     "name": "stdout",
     "output_type": "stream",
     "text": [
      "<class 'pandas.core.frame.DataFrame'>\n",
      "MultiIndex: 2888 entries, ('Afghanistan', 2015) to ('Zimbabwe', 2000)\n",
      "Data columns (total 14 columns):\n",
      " #   Column                Non-Null Count  Dtype   \n",
      "---  ------                --------------  -----   \n",
      " 0   Status                2888 non-null   category\n",
      " 1   Income_index          2614 non-null   float64 \n",
      " 2   pct_total_exp         2676 non-null   float64 \n",
      " 3   GDP                   2453 non-null   float64 \n",
      " 4   Hepatitis_B           2363 non-null   float64 \n",
      " 5   Polio                 2888 non-null   float64 \n",
      " 6   Diphtheria            2888 non-null   float64 \n",
      " 7   HIV_AIDS              2888 non-null   float64 \n",
      " 8   BMI                   2888 non-null   float64 \n",
      " 9   Alcohol               2713 non-null   float64 \n",
      " 10  thinness__1_19_years  2888 non-null   float64 \n",
      " 11  infant_deaths         2872 non-null   float64 \n",
      " 12  Adult_Mortality       2888 non-null   float64 \n",
      " 13  Life_expectancy       2888 non-null   float64 \n",
      "dtypes: category(1), float64(13)\n",
      "memory usage: 311.3 KB\n"
     ]
    }
   ],
   "source": [
    "df_le = pd.read_csv(os.path.join(DATA_FOLDER,EDA_DATAFILE), dtype={'Country': 'category', 'Status': 'category'},\n",
    "                    index_col=['Country', 'Year'])\n",
    "\n",
    "df_le.info()"
   ]
  },
  {
   "cell_type": "code",
   "execution_count": null,
   "id": "e172a88d-2a9d-48e3-be98-428ab932336c",
   "metadata": {},
   "outputs": [],
   "source": []
  },
  {
   "cell_type": "code",
   "execution_count": null,
   "id": "623cdaa1-58e3-4ae2-960f-29cd57023f9e",
   "metadata": {},
   "outputs": [],
   "source": []
  },
  {
   "cell_type": "markdown",
   "id": "e2b5f01e-98a4-4f38-a6f1-d860d0b84a6c",
   "metadata": {},
   "source": [
    "### ELIMINAR NULOS (CALCULO VIF NO LOS ADMITE)"
   ]
  },
  {
   "cell_type": "code",
   "execution_count": 5,
   "id": "affa1a7e-fe82-40c6-b040-23d0368db9c1",
   "metadata": {},
   "outputs": [],
   "source": [
    "from sklearn.experimental import enable_iterative_imputer\n",
    "from sklearn.impute import IterativeImputer\n",
    "from sklearn.ensemble import ExtraTreesRegressor"
   ]
  },
  {
   "cell_type": "code",
   "execution_count": 6,
   "id": "760a4d36-828c-4101-a505-4619be1f9e63",
   "metadata": {},
   "outputs": [
    {
     "data": {
      "text/plain": [
       "Index(['Income_index', 'pct_total_exp', 'GDP', 'Hepatitis_B', 'Polio',\n",
       "       'Diphtheria', 'HIV_AIDS', 'BMI', 'Alcohol', 'thinness__1_19_years',\n",
       "       'infant_deaths', 'Adult_Mortality'],\n",
       "      dtype='object')"
      ]
     },
     "execution_count": 6,
     "metadata": {},
     "output_type": "execute_result"
    }
   ],
   "source": [
    "df_atrib = df_le.drop(columns=['Status','Life_expectancy'])\n",
    "\n",
    "df_atrib.columns"
   ]
  },
  {
   "cell_type": "code",
   "execution_count": null,
   "id": "eb165618-8fdc-4620-8e1e-db90f44f3f3c",
   "metadata": {},
   "outputs": [],
   "source": []
  },
  {
   "cell_type": "code",
   "execution_count": 7,
   "id": "5c0378c3-e235-4961-b0cc-b6cf0c018f86",
   "metadata": {},
   "outputs": [
    {
     "name": "stdout",
     "output_type": "stream",
     "text": [
      "[IterativeImputer] Completing matrix with shape (2888, 12)\n",
      "[IterativeImputer] Change: 14380.678517779197, scaled tolerance: 119.17274180000001 \n",
      "[IterativeImputer] Change: 1856.7290178033977, scaled tolerance: 119.17274180000001 \n",
      "[IterativeImputer] Change: 619.6639156753864, scaled tolerance: 119.17274180000001 \n",
      "[IterativeImputer] Change: 215.6777877160234, scaled tolerance: 119.17274180000001 \n",
      "[IterativeImputer] Change: 78.72215990167894, scaled tolerance: 119.17274180000001 \n",
      "[IterativeImputer] Early stopping criterion reached.\n"
     ]
    },
    {
     "ename": "AttributeError",
     "evalue": "'IterativeImputer' object has no attribute 'feature_names_in_'",
     "output_type": "error",
     "traceback": [
      "\u001b[1;31m---------------------------------------------------------------------------\u001b[0m",
      "\u001b[1;31mAttributeError\u001b[0m                            Traceback (most recent call last)",
      "\u001b[1;32m<ipython-input-7-488f276159bd>\u001b[0m in \u001b[0;36m<module>\u001b[1;34m\u001b[0m\n\u001b[0;32m      3\u001b[0m \u001b[0marr_imput\u001b[0m \u001b[1;33m=\u001b[0m \u001b[0mimput_transf\u001b[0m\u001b[1;33m.\u001b[0m\u001b[0mfit_transform\u001b[0m\u001b[1;33m(\u001b[0m\u001b[0mdf_atrib\u001b[0m\u001b[1;33m,\u001b[0m\u001b[1;33m)\u001b[0m\u001b[1;33m\u001b[0m\u001b[1;33m\u001b[0m\u001b[0m\n\u001b[0;32m      4\u001b[0m \u001b[1;33m\u001b[0m\u001b[0m\n\u001b[1;32m----> 5\u001b[1;33m \u001b[0mdf_imput\u001b[0m \u001b[1;33m=\u001b[0m \u001b[0mpd\u001b[0m\u001b[1;33m.\u001b[0m\u001b[0mDataFrame\u001b[0m\u001b[1;33m(\u001b[0m\u001b[0mdata\u001b[0m\u001b[1;33m=\u001b[0m\u001b[0marr_imput\u001b[0m\u001b[1;33m,\u001b[0m\u001b[0mcolumns\u001b[0m\u001b[1;33m=\u001b[0m\u001b[0mimput_transf\u001b[0m\u001b[1;33m.\u001b[0m\u001b[0mfeature_names_in_\u001b[0m\u001b[1;33m)\u001b[0m\u001b[1;33m\u001b[0m\u001b[1;33m\u001b[0m\u001b[0m\n\u001b[0m\u001b[0;32m      6\u001b[0m \u001b[1;33m\u001b[0m\u001b[0m\n\u001b[0;32m      7\u001b[0m \u001b[0mdf_imput\u001b[0m\u001b[1;33m.\u001b[0m\u001b[0mdescribe\u001b[0m\u001b[1;33m(\u001b[0m\u001b[1;33m)\u001b[0m\u001b[1;33m\u001b[0m\u001b[1;33m\u001b[0m\u001b[0m\n",
      "\u001b[1;31mAttributeError\u001b[0m: 'IterativeImputer' object has no attribute 'feature_names_in_'"
     ]
    }
   ],
   "source": [
    "imput_transf = IterativeImputer(random_state=123,verbose=1)\n",
    "\n",
    "arr_imput = imput_transf.fit_transform(df_atrib,)\n",
    "\n",
    "df_imput = pd.DataFrame(data=arr_imput,columns=imput_transf.feature_names_in_)\n",
    "\n",
    "df_imput.describe()\n",
    "\n"
   ]
  },
  {
   "cell_type": "code",
   "execution_count": null,
   "id": "868b70f0-e1a0-4a60-b831-08e7ac3a62eb",
   "metadata": {},
   "outputs": [],
   "source": []
  },
  {
   "cell_type": "code",
   "execution_count": null,
   "id": "05865910-cde9-4b43-9aa6-b652b01cf1d2",
   "metadata": {},
   "outputs": [],
   "source": []
  },
  {
   "cell_type": "markdown",
   "id": "5427d025-1f62-48da-9c77-197b29edc107",
   "metadata": {},
   "source": [
    "### CÁLCULO VIF"
   ]
  },
  {
   "cell_type": "code",
   "execution_count": null,
   "id": "7dad84c2-9cd7-4541-b8bf-f6ac5545f57f",
   "metadata": {},
   "outputs": [],
   "source": [
    "import statsmodels.api as sma\n",
    "from statsmodels.stats.outliers_influence import variance_inflation_factor"
   ]
  },
  {
   "cell_type": "code",
   "execution_count": null,
   "id": "07247037-bc1a-48e5-bc88-49225ade9f5b",
   "metadata": {
    "tags": []
   },
   "outputs": [],
   "source": [
    "def calc_vif(df_atrib):\n",
    "    \n",
    "    vif = pd.DataFrame()\n",
    "    df_atrib = sma.add_constant(df_atrib)\n",
    "    vif['variables'] = df_atrib.columns\n",
    "    vif['VIF'] = [variance_inflation_factor(df_atrib.values,n) for n in range(df_atrib.shape[1])]\n",
    "    \n",
    "    return vif\n",
    "    \n",
    "    \n",
    "    "
   ]
  },
  {
   "cell_type": "code",
   "execution_count": null,
   "id": "da1defb3-d13c-46a7-b4bd-0d1c788cf89f",
   "metadata": {},
   "outputs": [],
   "source": []
  },
  {
   "cell_type": "code",
   "execution_count": null,
   "id": "aea2d2d3-f9c6-4e2c-be28-f7556be047b0",
   "metadata": {},
   "outputs": [],
   "source": []
  },
  {
   "cell_type": "code",
   "execution_count": null,
   "id": "f932bd3b-8ae9-44c7-8c53-9132abd497fe",
   "metadata": {},
   "outputs": [],
   "source": [
    "calc_vif(df_imput)"
   ]
  },
  {
   "cell_type": "code",
   "execution_count": null,
   "id": "24a3fa8c-ac5b-4b9d-b5da-42bfd8333c26",
   "metadata": {},
   "outputs": [],
   "source": []
  },
  {
   "cell_type": "markdown",
   "id": "3cc03b08-6523-4540-9f19-ef40c9519232",
   "metadata": {},
   "source": [
    "**Aun tomando como valor umbral de VIF  5, ninguna de las variables supera dicho valor.** Con lo cual no hay muestras de existencia de colinealidad y damos todos los atributos por válidos."
   ]
  },
  {
   "cell_type": "code",
   "execution_count": null,
   "id": "46f63536-b751-42d0-ae98-734b13dd93ff",
   "metadata": {},
   "outputs": [],
   "source": []
  },
  {
   "cell_type": "code",
   "execution_count": null,
   "id": "89ba3040-3973-44ef-8fe1-b55384358927",
   "metadata": {},
   "outputs": [],
   "source": []
  },
  {
   "cell_type": "code",
   "execution_count": null,
   "id": "ce2befbc-28f1-415e-9a54-f8a85bf72878",
   "metadata": {},
   "outputs": [],
   "source": []
  },
  {
   "cell_type": "code",
   "execution_count": null,
   "id": "c982cac2-bd91-4533-97c1-bae6ef0086bb",
   "metadata": {},
   "outputs": [],
   "source": []
  }
 ],
 "metadata": {
  "kernelspec": {
   "display_name": "Python 3",
   "language": "python",
   "name": "python3"
  },
  "language_info": {
   "codemirror_mode": {
    "name": "ipython",
    "version": 3
   },
   "file_extension": ".py",
   "mimetype": "text/x-python",
   "name": "python",
   "nbconvert_exporter": "python",
   "pygments_lexer": "ipython3",
   "version": "3.8.8"
  }
 },
 "nbformat": 4,
 "nbformat_minor": 5
}
